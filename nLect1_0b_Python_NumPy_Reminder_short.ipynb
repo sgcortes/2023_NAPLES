{
  "cells": [
    {
      "cell_type": "markdown",
      "metadata": {
        "id": "view-in-github",
        "colab_type": "text"
      },
      "source": [
        "<a href=\"https://colab.research.google.com/github/sgcortes/2023_NAPLES/blob/main/nLect1_0b_Python_NumPy_Reminder_short.ipynb\" target=\"_parent\"><img src=\"https://colab.research.google.com/assets/colab-badge.svg\" alt=\"Open In Colab\"/></a>"
      ]
    },
    {
      "cell_type": "markdown",
      "metadata": {
        "id": "7jXkWWamgW-s"
      },
      "source": [
        "<table style=\"width:100%\">\n",
        "  <tr>\n",
        "    <td><img src=\"https://unioviedo-my.sharepoint.com/:i:/g/personal/sgcortes_uniovi_es/Ebr0ybKDTBNKtoJyzmTBuRYBXY7nE-cCYaH-WDIVJxEVWA?&download=1\" width=\"211\" height=\"69\" alt=\"Uniovi & EP Mieres logos\" title=\"Uniovi & EP Mieres logos\" /></td>\n",
        "    <td><font color=brown>ML&DL Naples 2023<br></font>\n",
        "    <font color=green>Universidad de Oviedo. <br>Ingeniería en Geomática</font> <br><br>sgcortes@uniovi.es</td>\n",
        "  </tr>\n",
        "</table>"
      ]
    },
    {
      "cell_type": "markdown",
      "metadata": {
        "id": "DyUldXaXgW-u"
      },
      "source": [
        "##  NumPy"
      ]
    },
    {
      "cell_type": "markdown",
      "metadata": {
        "id": "sFX4I9zhgW-u"
      },
      "source": [
        "NumPy is a Python scientific computing package that integrates N-dimensional matrix object, linear algebra, Fourier transform and random number generation capabilities. Most packages that work with images generate, or can convert their output into a NumPy matrix, so it is necessary to handle some of its matrix manipulation functions (http://www.numpy.org/ ). The NumPy package must be imported as follows:"
      ]
    },
    {
      "cell_type": "code",
      "execution_count": 192,
      "metadata": {
        "id": "CNsWu1B_gW-v"
      },
      "outputs": [],
      "source": [
        "import numpy as np"
      ]
    },
    {
      "cell_type": "markdown",
      "metadata": {
        "id": "8dlIRyvLgW-v"
      },
      "source": [
        "## Matrix (or array) creation function:"
      ]
    },
    {
      "cell_type": "markdown",
      "metadata": {
        "id": "Ucaz7K_1gW-v"
      },
      "source": [
        "Some basic functions for creating matrices are as follows:"
      ]
    },
    {
      "cell_type": "code",
      "execution_count": 193,
      "metadata": {
        "id": "V-09_EqAgW-w",
        "outputId": "dc08c528-1c46-4138-fcda-01c99750f00a",
        "colab": {
          "base_uri": "https://localhost:8080/"
        }
      },
      "outputs": [
        {
          "output_type": "stream",
          "name": "stdout",
          "text": [
            "[[1 2 3 4]\n",
            " [5 6 7 8]]\n"
          ]
        }
      ],
      "source": [
        "matriz_1= np.array([[1,2,3,4],[5,6,7,8]])\n",
        "print(matriz_1)"
      ]
    },
    {
      "cell_type": "markdown",
      "metadata": {
        "id": "UQH2cCqBgW-w"
      },
      "source": [
        "Note that a 2x4 matrix has been constructed, using as elements two \"lists\" corresponding to the two rows separated by commas. Additionally, the two rows are enclosed by a new pair of square brackets. \n",
        "\n",
        "The indexing in the matrices, to refer to an element, is also done with square brackets in this way:\n"
      ]
    },
    {
      "cell_type": "code",
      "execution_count": 194,
      "metadata": {
        "id": "PMsZsDYGgW-w",
        "outputId": "497cd950-0654-4c93-ae20-2f9d462ae9e4",
        "colab": {
          "base_uri": "https://localhost:8080/"
        }
      },
      "outputs": [
        {
          "output_type": "stream",
          "name": "stdout",
          "text": [
            "4\n"
          ]
        }
      ],
      "source": [
        "print(matriz_1[0,3])"
      ]
    },
    {
      "cell_type": "markdown",
      "metadata": {
        "id": "UYNnh0jCgW-x"
      },
      "source": [
        "Other functions to create certain arrays may include:\n",
        "- np.ones(): Creates arrays with ones \n",
        "- np.zeros(): Creates arrays of zeros\n",
        "- np.random(): arrays of random numbers\n",
        "- np.full(): full (dense) array with elements that are constants\n"
      ]
    },
    {
      "cell_type": "code",
      "execution_count": 195,
      "metadata": {
        "id": "z_im9PYNgW-x",
        "outputId": "c009f335-75d2-45ec-83ad-2c21f95ae130",
        "colab": {
          "base_uri": "https://localhost:8080/"
        }
      },
      "outputs": [
        {
          "output_type": "stream",
          "name": "stdout",
          "text": [
            "[[1. 1.]\n",
            " [1. 1.]\n",
            " [1. 1.]]\n"
          ]
        }
      ],
      "source": [
        "unos=np.ones((3,2)) # recibe una tupla como argumento por esos va entre paréntensis\n",
        "print(unos)"
      ]
    },
    {
      "cell_type": "code",
      "execution_count": 196,
      "metadata": {
        "id": "Yxl2z93IgW-x",
        "outputId": "eb5f7882-590d-448f-cbcc-938baad85cb7",
        "colab": {
          "base_uri": "https://localhost:8080/"
        }
      },
      "outputs": [
        {
          "output_type": "stream",
          "name": "stdout",
          "text": [
            "[[0. 0. 0.]\n",
            " [0. 0. 0.]]\n"
          ]
        }
      ],
      "source": [
        "ceros=np.zeros((2,3))\n",
        "print(ceros)"
      ]
    },
    {
      "cell_type": "code",
      "execution_count": 197,
      "metadata": {
        "id": "XeztE5HsgW-x",
        "outputId": "c7a4378a-3667-4539-87dd-58a0918b8230",
        "colab": {
          "base_uri": "https://localhost:8080/"
        }
      },
      "outputs": [
        {
          "output_type": "stream",
          "name": "stdout",
          "text": [
            "[0.22029166 0.57624257 0.3167498 ]\n"
          ]
        }
      ],
      "source": [
        "alea=np.random.random(3) # Matrices de valores aleatorios\n",
        "print(alea)"
      ]
    },
    {
      "cell_type": "code",
      "execution_count": 198,
      "metadata": {
        "id": "cmo6ckjEgW-x",
        "outputId": "ed21c7e3-de7e-418b-ffa6-cde519a2f9b9",
        "colab": {
          "base_uri": "https://localhost:8080/"
        }
      },
      "outputs": [
        {
          "output_type": "stream",
          "name": "stdout",
          "text": [
            "[[6 6]\n",
            " [6 6]]\n"
          ]
        }
      ],
      "source": [
        "llena=np.full((2,2), 6)\n",
        "print(llena)"
      ]
    },
    {
      "cell_type": "code",
      "execution_count": 199,
      "metadata": {
        "id": "nxrkUDkmgW-y",
        "outputId": "e887c7ce-ac0e-4053-af3f-378980a35372",
        "colab": {
          "base_uri": "https://localhost:8080/"
        }
      },
      "outputs": [
        {
          "output_type": "stream",
          "name": "stdout",
          "text": [
            "[[4.9e-324 9.9e-324 1.5e-323 2.0e-323]\n",
            " [2.5e-323 3.0e-323 3.5e-323 4.0e-323]\n",
            " [4.4e-323 4.9e-323 5.4e-323 5.9e-323]]\n"
          ]
        }
      ],
      "source": [
        "vacia=np.empty((3,4))\n",
        "print(vacia)"
      ]
    },
    {
      "cell_type": "code",
      "execution_count": 200,
      "metadata": {
        "id": "ityLaiGFgW-y",
        "outputId": "06c4af9b-4449-4cea-ded4-d4a5b7de1c26",
        "colab": {
          "base_uri": "https://localhost:8080/"
        }
      },
      "outputs": [
        {
          "output_type": "stream",
          "name": "stdout",
          "text": [
            "[[1. 0.]\n",
            " [0. 1.]]\n",
            "[[1. 0. 0. 0.]\n",
            " [0. 1. 0. 0.]\n",
            " [0. 0. 1. 0.]\n",
            " [0. 0. 0. 1.]]\n"
          ]
        }
      ],
      "source": [
        "I=np.eye(2) # necesita un entero\n",
        "print(I)\n",
        "I2=np.identity(4) # necesita un entero\n",
        "print(I2)"
      ]
    },
    {
      "cell_type": "markdown",
      "metadata": {
        "id": "ZE_VcFvbgW-y"
      },
      "source": [
        "Two important functions are the **copy** function and the option to specify the type of data you want the elements of the created array to have."
      ]
    },
    {
      "cell_type": "code",
      "execution_count": 201,
      "metadata": {
        "id": "DMD3LHgPgW-y",
        "outputId": "7b5061f1-dfcd-4e61-9331-0f538fd66747",
        "colab": {
          "base_uri": "https://localhost:8080/"
        }
      },
      "outputs": [
        {
          "output_type": "stream",
          "name": "stdout",
          "text": [
            "[[7. 7.]\n",
            " [7. 7.]]\n"
          ]
        }
      ],
      "source": [
        "d=np.full((2,2), 7,dtype=np.float32)\n",
        "print(d)"
      ]
    },
    {
      "cell_type": "code",
      "execution_count": 202,
      "metadata": {
        "id": "tMyoZnbygW-y",
        "outputId": "4ce0f403-3fc4-4a0a-aa62-742d604838e9",
        "colab": {
          "base_uri": "https://localhost:8080/"
        }
      },
      "outputs": [
        {
          "output_type": "stream",
          "name": "stdout",
          "text": [
            "Matriz a:\n",
            " [[1. 0.]\n",
            " [0. 1.]]\n",
            "Matriz I:\n",
            " [[1. 0.]\n",
            " [0. 1.]]\n"
          ]
        }
      ],
      "source": [
        "a=I.copy()\n",
        "print('Matriz a:\\n',a)\n",
        "print('Matriz I:\\n', I)"
      ]
    },
    {
      "cell_type": "markdown",
      "metadata": {
        "id": "eyIgulKbgW-z"
      },
      "source": [
        "The **arange()** and **linspace()** functions (methods) can be used to create vectors (1-dimensional arrays)."
      ]
    },
    {
      "cell_type": "code",
      "execution_count": 203,
      "metadata": {
        "id": "jEe5UyZbgW-z"
      },
      "outputs": [],
      "source": [
        "a=np.arange(0,10,2) # (start,stop,step)"
      ]
    },
    {
      "cell_type": "code",
      "execution_count": 204,
      "metadata": {
        "id": "C_IeBPQhgW-z",
        "outputId": "4739baa2-474f-41d7-ffb9-aa9a7c3513c1",
        "colab": {
          "base_uri": "https://localhost:8080/"
        }
      },
      "outputs": [
        {
          "output_type": "stream",
          "name": "stdout",
          "text": [
            "[0 1 2 3 4 5]\n"
          ]
        }
      ],
      "source": [
        "b=np.arange(6)\n",
        "print(b)"
      ]
    },
    {
      "cell_type": "code",
      "execution_count": 205,
      "metadata": {
        "id": "CFfGuVW6gW-z",
        "outputId": "9d65cfa8-a02f-4456-ccbc-fc6db29b7a4d",
        "colab": {
          "base_uri": "https://localhost:8080/"
        }
      },
      "outputs": [
        {
          "output_type": "stream",
          "name": "stdout",
          "text": [
            "[ 0.  2.  4.  6.  8. 10.]\n"
          ]
        }
      ],
      "source": [
        "c=np.linspace(0,10,6) # 6 in this case is the unmber of desired elements\n",
        "print(c)"
      ]
    },
    {
      "cell_type": "markdown",
      "metadata": {
        "id": "9A_hbyXYgW-z"
      },
      "source": [
        "### Basic matrix properties"
      ]
    },
    {
      "cell_type": "markdown",
      "metadata": {
        "id": "HgePDEyxgW-z"
      },
      "source": [
        "The basic characteristics of arrays can be accessed through the properties of objects of the **Numpy** class."
      ]
    },
    {
      "cell_type": "code",
      "execution_count": 206,
      "metadata": {
        "id": "zjNQwVBUgW-0",
        "outputId": "cc1b687e-3f6b-4b50-d547-6abe49a120e2",
        "colab": {
          "base_uri": "https://localhost:8080/"
        }
      },
      "outputs": [
        {
          "output_type": "stream",
          "name": "stdout",
          "text": [
            "Número de dimensiones: 2\n",
            "Dimensiones: (2, 4)\n",
            "Número de elementos: 8\n",
            "Tipo de datos del objeto: <class 'numpy.ndarray'>\n"
          ]
        }
      ],
      "source": [
        "print('Número de dimensiones:',matriz_1.ndim)\n",
        "print('Dimensiones:', matriz_1.shape)\n",
        "print('Número de elementos:', matriz_1.size)\n",
        "print('Tipo de datos del objeto:' ,type(matriz_1))"
      ]
    },
    {
      "cell_type": "markdown",
      "metadata": {
        "id": "gWINvZWSgW-0"
      },
      "source": [
        "### Changing shape and size"
      ]
    },
    {
      "cell_type": "markdown",
      "metadata": {
        "id": "C_kXpC9HgW-0"
      },
      "source": [
        "The following methods allow you to change the shape and size of the matrix:"
      ]
    },
    {
      "cell_type": "code",
      "execution_count": 207,
      "metadata": {
        "id": "LJaU4td8gW-0",
        "outputId": "0df59af8-9500-42c3-d37c-a7e645efbbec",
        "colab": {
          "base_uri": "https://localhost:8080/"
        }
      },
      "outputs": [
        {
          "output_type": "stream",
          "name": "stdout",
          "text": [
            "[[ 1  2  3  4]\n",
            " [ 5  6  7  8]\n",
            " [ 9 10 11 12]]\n"
          ]
        }
      ],
      "source": [
        "m=np.array([[1, 2, 3, 4],[5, 6, 7, 8],[9,10,11,12]])\n",
        "print(m)"
      ]
    },
    {
      "cell_type": "code",
      "execution_count": 208,
      "metadata": {
        "id": "BhVJVLrYgW-0",
        "outputId": "6d6e9f74-9209-4cca-b053-3127ec288723",
        "colab": {
          "base_uri": "https://localhost:8080/"
        }
      },
      "outputs": [
        {
          "output_type": "stream",
          "name": "stdout",
          "text": [
            "[[ 1  2  3  4  5  6]\n",
            " [ 7  8  9 10 11 12]]\n"
          ]
        }
      ],
      "source": [
        "m.resize(2,6)\n",
        "print(m)"
      ]
    },
    {
      "cell_type": "code",
      "execution_count": 209,
      "metadata": {
        "id": "MYdzOokJgW-0",
        "outputId": "8b9a4eed-779e-4382-e10c-20bea2c6be0e",
        "colab": {
          "base_uri": "https://localhost:8080/"
        }
      },
      "outputs": [
        {
          "output_type": "stream",
          "name": "stdout",
          "text": [
            "[ 1  2  3  4  5  6  7  8  9 10 11 12]\n",
            "(2, 6)\n",
            "(12,)\n"
          ]
        }
      ],
      "source": [
        "print(m.ravel())\n",
        "print(m.shape)\n",
        "b= m.ravel()\n",
        "print(b.shape)"
      ]
    },
    {
      "cell_type": "code",
      "execution_count": 210,
      "metadata": {
        "id": "Cr46Zr3BgW-0",
        "outputId": "1ffad993-e1a4-427c-a157-2a1405e3423f",
        "colab": {
          "base_uri": "https://localhost:8080/"
        }
      },
      "outputs": [
        {
          "output_type": "stream",
          "name": "stdout",
          "text": [
            "[[ 1  2  3  4  5  6]\n",
            " [ 7  8  9 10 11 12]]\n",
            "[ 1  2  3  4  5  6  7  8  9 10 11 12]\n",
            "(12,)\n"
          ]
        }
      ],
      "source": [
        "print(m)\n",
        "vec = m.flatten()\n",
        "print(vec)\n",
        "print(vec.shape)"
      ]
    },
    {
      "cell_type": "code",
      "execution_count": 211,
      "metadata": {
        "id": "wihVSZeUgW-1",
        "outputId": "6bb51ad7-437b-4fef-8b79-eb09d31d0e0b",
        "colab": {
          "base_uri": "https://localhost:8080/"
        }
      },
      "outputs": [
        {
          "output_type": "stream",
          "name": "stdout",
          "text": [
            "[ 1  2  3  4  5  6  7  8  9 10 11 12]\n"
          ]
        }
      ],
      "source": [
        "p=m.ravel()\n",
        "print(p)"
      ]
    },
    {
      "cell_type": "code",
      "execution_count": 212,
      "metadata": {
        "id": "O3WEdFI6gW-1",
        "outputId": "be6270df-ff7b-4727-eba2-e95076117547",
        "colab": {
          "base_uri": "https://localhost:8080/"
        }
      },
      "outputs": [
        {
          "output_type": "stream",
          "name": "stdout",
          "text": [
            "[[ 1  2]\n",
            " [ 3  4]\n",
            " [ 5  6]\n",
            " [ 7  8]\n",
            " [ 9 10]\n",
            " [11 12]]\n"
          ]
        }
      ],
      "source": [
        "q=p.reshape(6,2)\n",
        "print(q)"
      ]
    },
    {
      "cell_type": "code",
      "execution_count": 213,
      "metadata": {
        "id": "UhiBQBe7gW-1",
        "outputId": "8e26b254-2c60-4a82-bbe6-642c652a1c4f",
        "colab": {
          "base_uri": "https://localhost:8080/"
        }
      },
      "outputs": [
        {
          "output_type": "stream",
          "name": "stdout",
          "text": [
            "[[ 1  3  5  7  9 11]\n",
            " [ 2  4  6  8 10 12]]\n"
          ]
        }
      ],
      "source": [
        "print(q.transpose())"
      ]
    },
    {
      "cell_type": "markdown",
      "metadata": {
        "id": "TB-kKsOxgW-1"
      },
      "source": [
        "### Slicing: sub-matrices "
      ]
    },
    {
      "cell_type": "markdown",
      "metadata": {
        "id": "7JZSCzPrgW-1"
      },
      "source": [
        "The index ranges for the sub-matrices to be extracted are defined with three values: start, stop, step, the first two values are indices and the third one indicates the number of elements to be extracted."
      ]
    },
    {
      "cell_type": "code",
      "execution_count": 214,
      "metadata": {
        "id": "koM3unVkgW-1",
        "outputId": "b012c0ff-8ac3-4a2b-8c99-04f87f01776a",
        "colab": {
          "base_uri": "https://localhost:8080/"
        }
      },
      "outputs": [
        {
          "output_type": "stream",
          "name": "stdout",
          "text": [
            "[ 1  2  3  4  5  6  7  8  9 10 11 12]\n",
            "Extrayendo \n",
            "[4 6 8]\n"
          ]
        }
      ],
      "source": [
        "q=q.ravel()\n",
        "print(q)\n",
        "print('Extrayendo ')\n",
        "print(q[3:9:2]) # el elemento de índice 9 no se extrae, pero sí el de índice 3"
      ]
    },
    {
      "cell_type": "markdown",
      "metadata": {
        "id": "cf28SawigW-1"
      },
      "source": [
        "If the matrix is multidimensional, specify the desired range in all dimensions (e.g. rows and cols, [0:7:2, 1] to extract elements from col=1)."
      ]
    },
    {
      "cell_type": "code",
      "execution_count": 215,
      "metadata": {
        "id": "CO1g5nYmgW-8",
        "outputId": "d17589c9-c2a9-472e-eb16-9331f22ae941",
        "colab": {
          "base_uri": "https://localhost:8080/"
        }
      },
      "outputs": [
        {
          "output_type": "stream",
          "name": "stdout",
          "text": [
            "[[ 1  2  3  4]\n",
            " [ 5  6  7  8]\n",
            " [ 9 10 11 12]]\n",
            "[ 2  6 10]\n",
            "(3,)\n"
          ]
        }
      ],
      "source": [
        "q=q.reshape(3,4)\n",
        "print(q)\n",
        "\n",
        "print(q[0:3:1, 1])\n",
        "x = q[0:3:1, 1]\n",
        "print(x.shape)"
      ]
    },
    {
      "cell_type": "code",
      "execution_count": 216,
      "metadata": {
        "id": "uXesIKnGgW-8",
        "outputId": "9e22a9ab-2a4d-4648-e15f-6864a72794ac",
        "colab": {
          "base_uri": "https://localhost:8080/"
        }
      },
      "outputs": [
        {
          "output_type": "stream",
          "name": "stdout",
          "text": [
            "[[ 6  7]\n",
            " [10 11]]\n"
          ]
        }
      ],
      "source": [
        "r=q[1:3, 1:3] # los elementos de índice 3 no se extraen\n",
        "print(r)"
      ]
    },
    {
      "cell_type": "markdown",
      "metadata": {
        "id": "YwoH_goygW-8"
      },
      "source": [
        "To extract an entire row or column, simply omit the value at the end of the range after the colon (:):"
      ]
    },
    {
      "cell_type": "code",
      "execution_count": 217,
      "metadata": {
        "id": "8zHHeVWwgW-9",
        "outputId": "c5eb0f46-949c-46be-e094-9dcaea8cffee",
        "colab": {
          "base_uri": "https://localhost:8080/"
        }
      },
      "outputs": [
        {
          "output_type": "stream",
          "name": "stdout",
          "text": [
            "La tercera columna de q vale: [ 3  7 11]\n"
          ]
        }
      ],
      "source": [
        "t=q[:,2]\n",
        "print('La tercera columna de q vale:', t)"
      ]
    },
    {
      "cell_type": "code",
      "execution_count": 218,
      "metadata": {
        "id": "ofdjgCOxgW--",
        "outputId": "7d5aa708-cbf2-4b9d-ab69-c62ebdc150ab",
        "colab": {
          "base_uri": "https://localhost:8080/"
        }
      },
      "outputs": [
        {
          "output_type": "stream",
          "name": "stdout",
          "text": [
            "[[ 1  2  3  4]\n",
            " [ 5  6  7  8]\n",
            " [ 9 10 11 12]]\n"
          ]
        }
      ],
      "source": [
        "print(q)"
      ]
    },
    {
      "cell_type": "code",
      "execution_count": 219,
      "metadata": {
        "id": "LsmJ-2MCgW-_",
        "outputId": "d1d3d326-c0a1-4076-946f-44207c0d3f10",
        "colab": {
          "base_uri": "https://localhost:8080/"
        }
      },
      "outputs": [
        {
          "output_type": "stream",
          "name": "stdout",
          "text": [
            "[[ 9 10 11 12]]\n"
          ]
        }
      ],
      "source": [
        "z=q[2:,:]\n",
        "print(z)"
      ]
    },
    {
      "cell_type": "markdown",
      "metadata": {
        "id": "GOMyoz8CgW-_"
      },
      "source": [
        "Also the supensive dots **\"... \"** can be used to indicate all elements in one direction."
      ]
    },
    {
      "cell_type": "code",
      "execution_count": 220,
      "metadata": {
        "id": "_ikaPGOHgW-_",
        "outputId": "c6d12c35-14cb-433e-fbc2-b655b0b360e9",
        "colab": {
          "base_uri": "https://localhost:8080/"
        }
      },
      "outputs": [
        {
          "output_type": "stream",
          "name": "stdout",
          "text": [
            "[ 4  8 12]\n"
          ]
        }
      ],
      "source": [
        "print(q[...,3])"
      ]
    },
    {
      "cell_type": "code",
      "execution_count": 221,
      "metadata": {
        "id": "E_CkxvpbgW-_",
        "outputId": "e4cb6975-257b-4cbe-ac9e-79cd61ebc2c7",
        "colab": {
          "base_uri": "https://localhost:8080/"
        }
      },
      "outputs": [
        {
          "output_type": "stream",
          "name": "stdout",
          "text": [
            "[ 4  8 12]\n"
          ]
        }
      ],
      "source": [
        "print(q[:,3])"
      ]
    },
    {
      "cell_type": "markdown",
      "metadata": {
        "id": "yaxgS9EAgW-_"
      },
      "source": [
        "### Arithmetic operations\n",
        "Arithmetic operations are made element by element."
      ]
    },
    {
      "cell_type": "code",
      "execution_count": 222,
      "metadata": {
        "id": "5gBgAnf9gW-_",
        "outputId": "ae22b308-de90-4821-c712-bfd01489d561",
        "colab": {
          "base_uri": "https://localhost:8080/"
        }
      },
      "outputs": [
        {
          "output_type": "stream",
          "name": "stdout",
          "text": [
            "[[ 8 10 12]\n",
            " [14 16 18]]\n"
          ]
        }
      ],
      "source": [
        "x=np.array([[1,2,3],[4,5,6]])\n",
        "y=np.array([[7,8,9],[10,11,12]])\n",
        "print(x+y)"
      ]
    },
    {
      "cell_type": "code",
      "execution_count": 228,
      "metadata": {
        "id": "sfmSJsomgW_A",
        "outputId": "99f54f97-fda4-408a-bcf9-a5a6e3fe5bbb",
        "colab": {
          "base_uri": "https://localhost:8080/"
        }
      },
      "outputs": [
        {
          "output_type": "stream",
          "name": "stdout",
          "text": [
            "[[0 0 0]\n",
            " [2 1 0]]\n"
          ]
        }
      ],
      "source": [
        "print(np.remainder(y,x))"
      ]
    },
    {
      "cell_type": "code",
      "execution_count": 229,
      "metadata": {
        "id": "eLAigIhpgW_A",
        "outputId": "10db1942-7efe-4220-c267-dfc89678c7ed",
        "colab": {
          "base_uri": "https://localhost:8080/"
        }
      },
      "outputs": [
        {
          "output_type": "stream",
          "name": "stdout",
          "text": [
            "[[ 1  4  9]\n",
            " [16 25 36]]\n"
          ]
        }
      ],
      "source": [
        "print(x**2)"
      ]
    },
    {
      "cell_type": "code",
      "execution_count": 230,
      "metadata": {
        "id": "ect6lkLOgW_A",
        "outputId": "eb83e25d-936a-4604-b33a-17273ac39e41",
        "colab": {
          "base_uri": "https://localhost:8080/"
        }
      },
      "outputs": [
        {
          "output_type": "stream",
          "name": "stdout",
          "text": [
            "[[6 6 6]\n",
            " [6 6 6]]\n"
          ]
        }
      ],
      "source": [
        "print(y-x)"
      ]
    },
    {
      "cell_type": "markdown",
      "metadata": {
        "id": "uouuxxfmgW_A"
      },
      "source": [
        "### Other functions"
      ]
    },
    {
      "cell_type": "code",
      "execution_count": 226,
      "metadata": {
        "id": "wwor_OplgW_A",
        "outputId": "03870406-140d-47c9-d725-790ccfed5f43",
        "colab": {
          "base_uri": "https://localhost:8080/"
        }
      },
      "outputs": [
        {
          "output_type": "stream",
          "name": "stdout",
          "text": [
            "[[ True  True  True]\n",
            " [ True False False]]\n"
          ]
        }
      ],
      "source": [
        "print(x<5)"
      ]
    },
    {
      "cell_type": "markdown",
      "metadata": {
        "id": "030RN1I6gW_B"
      },
      "source": [
        "Estas funciones trabajan elemento a elemento:\n",
        "- np.around() :Redondea al entero mas cercano\n",
        "- np.trunc() : trunca los decimales de lso elementos\n",
        "- np.floor() : redondea al entero menor\n",
        "- np.ceil() : redondea al entero mayor\n",
        "- np.log() : logaritmo"
      ]
    },
    {
      "cell_type": "code",
      "execution_count": 227,
      "metadata": {
        "id": "1LjTJT5igW_B",
        "outputId": "29c294d2-7669-4119-ef7a-8d32d28f78d6",
        "colab": {
          "base_uri": "https://localhost:8080/"
        }
      },
      "outputs": [
        {
          "output_type": "stream",
          "name": "stdout",
          "text": [
            "[[1 2 3]\n",
            " [4 5 6]]\n",
            "1\n",
            "[4 5 6]\n",
            "[ 1  3  6 10 15 21]\n",
            "1.707825127659933\n"
          ]
        }
      ],
      "source": [
        "print(x)\n",
        "print(np.min(x)) # mínimo de toda la matriz\n",
        "print(np.max(x, axis=0)) # calcula màximos por cada columna\n",
        "print(np.cumsum(x)) # suma acumulativa de los elementos\n",
        "print(x.std()) # desviación estandar"
      ]
    }
  ],
  "metadata": {
    "kernelspec": {
      "display_name": "Python 3",
      "language": "python",
      "name": "python3"
    },
    "language_info": {
      "codemirror_mode": {
        "name": "ipython",
        "version": 3
      },
      "file_extension": ".py",
      "mimetype": "text/x-python",
      "name": "python",
      "nbconvert_exporter": "python",
      "pygments_lexer": "ipython3",
      "version": "3.5.5"
    },
    "colab": {
      "provenance": [],
      "include_colab_link": true
    }
  },
  "nbformat": 4,
  "nbformat_minor": 0
}