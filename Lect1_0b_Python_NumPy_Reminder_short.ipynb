{
  "cells": [
    {
      "cell_type": "markdown",
      "metadata": {
        "id": "view-in-github",
        "colab_type": "text"
      },
      "source": [
        "<a href=\"https://colab.research.google.com/github/sgcortes/2023_NAPLES/blob/main/Lect1_0b_Python_NumPy_Reminder_short.ipynb\" target=\"_parent\"><img src=\"https://colab.research.google.com/assets/colab-badge.svg\" alt=\"Open In Colab\"/></a>"
      ]
    },
    {
      "cell_type": "markdown",
      "metadata": {
        "id": "7jXkWWamgW-s"
      },
      "source": [
        "<table style=\"width:100%\">\n",
        "  <tr>\n",
        "    <td><img src=\"https://unioviedo-my.sharepoint.com/:i:/g/personal/sgcortes_uniovi_es/Ebr0ybKDTBNKtoJyzmTBuRYBXY7nE-cCYaH-WDIVJxEVWA?&download=1\" width=\"211\" height=\"69\" alt=\"Uniovi & EP Mieres logos\" title=\"Uniovi & EP Mieres logos\" /></td>\n",
        "    <td><font color=brown>ML&DL Naples 2023<br></font>\n",
        "    <font color=green>Universidad de Oviedo. <br>Ingeniería en Geomática</font> <br><br>sgcortes@uniovi.es</td>\n",
        "  </tr>\n",
        "</table>"
      ]
    },
    {
      "cell_type": "markdown",
      "metadata": {
        "id": "DyUldXaXgW-u"
      },
      "source": [
        "## T1. Repaso: NumPy"
      ]
    },
    {
      "cell_type": "markdown",
      "metadata": {
        "id": "sFX4I9zhgW-u"
      },
      "source": [
        "NumPy es un pquete para el cálculo cientifico con Python que integra un objeto matricial N-dimensional, algebra lineal, trasnformada de Fourier y capacidades de generación de números aleatorios. La mayoría de los paquetes que trabajan con imágenes generan o puede convertirse su salida, a una matriz de NumPy por ello es necesario manejar algunas de sus funciones relacionadas con la manipulación de matrices.( http://www.numpy.org/ ).\n",
        "El paquete NumPy debe importarse como sigue:"
      ]
    },
    {
      "cell_type": "code",
      "execution_count": null,
      "metadata": {
        "id": "CNsWu1B_gW-v"
      },
      "outputs": [],
      "source": [
        "import numpy as np"
      ]
    },
    {
      "cell_type": "markdown",
      "metadata": {
        "id": "8dlIRyvLgW-v"
      },
      "source": [
        "## Funciones para crear matrices"
      ]
    },
    {
      "cell_type": "markdown",
      "metadata": {
        "id": "Ucaz7K_1gW-v"
      },
      "source": [
        "Algunas funciones básicas para crear matrices son las siguientes:"
      ]
    },
    {
      "cell_type": "code",
      "execution_count": null,
      "metadata": {
        "id": "V-09_EqAgW-w",
        "outputId": "c6328c13-f13d-40b0-d456-a47d40f3de26"
      },
      "outputs": [
        {
          "name": "stdout",
          "output_type": "stream",
          "text": [
            "[[1 2 3 4]\n",
            " [5 6 7 8]]\n"
          ]
        }
      ],
      "source": [
        "matriz_1= np.array([[1,2,3,4],[5,6,7,8]])\n",
        "print(matriz_1)"
      ]
    },
    {
      "cell_type": "markdown",
      "metadata": {
        "id": "UQH2cCqBgW-w"
      },
      "source": [
        "Observese que se ha construido una matriz 2x4, empleando como elementos dos \"listas\" que corresponden a las dos filas separadas por comas. Adicionalmente las dos filas se encierran a su vez por un nuevo par de corchetes. \n",
        "\n",
        "El indexado en las matrices, para hacer referencia a un elemento, se realiza con corchetes también de este modo:"
      ]
    },
    {
      "cell_type": "code",
      "execution_count": null,
      "metadata": {
        "id": "PMsZsDYGgW-w",
        "outputId": "f8b12523-f41f-4870-9e6c-90a4bf94deff"
      },
      "outputs": [
        {
          "name": "stdout",
          "output_type": "stream",
          "text": [
            "4\n"
          ]
        }
      ],
      "source": [
        "print(matriz_1[0,3])"
      ]
    },
    {
      "cell_type": "markdown",
      "metadata": {
        "id": "UYNnh0jCgW-x"
      },
      "source": [
        "Otras funciones para crear ciertas matrices pueden ser:\n",
        "- np.ones(): Crea matrices con unos \n",
        "- np.zeros(): Crea matrices de ceros\n",
        "- np.random(): Matrices de números aleatorios\n",
        "- np.full(): Matriz completa (densa) con elementos que son constantes"
      ]
    },
    {
      "cell_type": "code",
      "execution_count": null,
      "metadata": {
        "id": "z_im9PYNgW-x",
        "outputId": "9e822581-9b7a-4fea-e263-076582f5d1f3"
      },
      "outputs": [
        {
          "name": "stdout",
          "output_type": "stream",
          "text": [
            "[[1. 1.]\n",
            " [1. 1.]\n",
            " [1. 1.]]\n"
          ]
        }
      ],
      "source": [
        "unos=np.ones((3,2)) # recibe una tupla como argumento por esos va entre paréntensis\n",
        "print(unos)"
      ]
    },
    {
      "cell_type": "code",
      "execution_count": null,
      "metadata": {
        "id": "Yxl2z93IgW-x",
        "outputId": "4f06b9dd-8a81-4fbb-c73b-0b13bad88276"
      },
      "outputs": [
        {
          "name": "stdout",
          "output_type": "stream",
          "text": [
            "[[0. 0. 0.]\n",
            " [0. 0. 0.]]\n"
          ]
        }
      ],
      "source": [
        "ceros=np.zeros((2,3))\n",
        "print(ceros)"
      ]
    },
    {
      "cell_type": "code",
      "execution_count": null,
      "metadata": {
        "id": "XeztE5HsgW-x",
        "outputId": "76432049-ff2a-4e2b-86ce-ea70e9a393bc"
      },
      "outputs": [
        {
          "name": "stdout",
          "output_type": "stream",
          "text": [
            "[0.63097045 0.64789072 0.88756414]\n"
          ]
        }
      ],
      "source": [
        "alea=np.random.random(3) # Matrices de valores aleatorios\n",
        "print(alea)"
      ]
    },
    {
      "cell_type": "code",
      "execution_count": null,
      "metadata": {
        "id": "cmo6ckjEgW-x",
        "outputId": "82dba6e5-77da-49ed-9e05-41f895f4f7ba"
      },
      "outputs": [
        {
          "name": "stdout",
          "output_type": "stream",
          "text": [
            "[[6 6]\n",
            " [6 6]]\n"
          ]
        }
      ],
      "source": [
        "llena=np.full((2,2), 6)\n",
        "print(llena)"
      ]
    },
    {
      "cell_type": "code",
      "execution_count": null,
      "metadata": {
        "id": "nxrkUDkmgW-y",
        "outputId": "b64e458f-fc11-452f-d391-1eba9af202a5"
      },
      "outputs": [
        {
          "name": "stdout",
          "output_type": "stream",
          "text": [
            "[[7.18942804e-312 3.16202013e-322 0.00000000e+000 0.00000000e+000]\n",
            " [0.00000000e+000 3.88452374e-057 6.15534277e+170 1.34940190e+161]\n",
            " [3.59967195e+179 1.48643067e-076 5.79682563e+170 4.69625634e-033]]\n"
          ]
        }
      ],
      "source": [
        "vacia=np.empty((3,4))\n",
        "print(vacia)"
      ]
    },
    {
      "cell_type": "code",
      "execution_count": null,
      "metadata": {
        "id": "ityLaiGFgW-y",
        "outputId": "abd1a236-dbbd-4860-c735-c30b4770c12a"
      },
      "outputs": [
        {
          "name": "stdout",
          "output_type": "stream",
          "text": [
            "[[1. 0.]\n",
            " [0. 1.]]\n",
            "[[1. 0. 0. 0.]\n",
            " [0. 1. 0. 0.]\n",
            " [0. 0. 1. 0.]\n",
            " [0. 0. 0. 1.]]\n"
          ]
        }
      ],
      "source": [
        "I=np.eye(2) # necesita un entero\n",
        "print(I)\n",
        "I2=np.identity(4) # necesita un entero\n",
        "print(I2)"
      ]
    },
    {
      "cell_type": "markdown",
      "metadata": {
        "id": "ZE_VcFvbgW-y"
      },
      "source": [
        "Dos funciones importantes son la función **copy** y la opción de especificar el tipo de datos que se desea tenga los elementos de la matriz creada."
      ]
    },
    {
      "cell_type": "code",
      "execution_count": null,
      "metadata": {
        "id": "DMD3LHgPgW-y",
        "outputId": "e40468fc-064c-4d69-e9f2-0b9dae8fe4c2"
      },
      "outputs": [
        {
          "name": "stdout",
          "output_type": "stream",
          "text": [
            "[[7. 7.]\n",
            " [7. 7.]]\n"
          ]
        }
      ],
      "source": [
        "d=np.full((2,2), 7,dtype=np.float32)\n",
        "print(d)"
      ]
    },
    {
      "cell_type": "code",
      "execution_count": null,
      "metadata": {
        "id": "tMyoZnbygW-y",
        "outputId": "b1d58dc4-2f7b-486b-ffe3-c2fd16844ee8"
      },
      "outputs": [
        {
          "name": "stdout",
          "output_type": "stream",
          "text": [
            "Matriz a:\n",
            " [[1. 0.]\n",
            " [0. 1.]]\n",
            "Matriz I:\n",
            " [[1. 0.]\n",
            " [0. 1.]]\n"
          ]
        }
      ],
      "source": [
        "a=I.copy()\n",
        "print('Matriz a:\\n',a)\n",
        "print('Matriz I:\\n', I)"
      ]
    },
    {
      "cell_type": "markdown",
      "metadata": {
        "id": "eyIgulKbgW-z"
      },
      "source": [
        "Las funciónes (métodos) **arange()** y **linspace()** puede emplearse para crear vectores (matrices de 1 dimensión) "
      ]
    },
    {
      "cell_type": "code",
      "execution_count": null,
      "metadata": {
        "id": "jEe5UyZbgW-z",
        "outputId": "39bd058d-1830-4b33-faae-4923e09f81cc"
      },
      "outputs": [
        {
          "name": "stdout",
          "output_type": "stream",
          "text": [
            "[0 2 4 6 8]\n"
          ]
        }
      ],
      "source": [
        "a=np.arange(0,10,2)\n",
        "print(a)"
      ]
    },
    {
      "cell_type": "code",
      "execution_count": null,
      "metadata": {
        "id": "C_IeBPQhgW-z",
        "outputId": "5443444c-a88c-4583-920e-53b22dc9279d"
      },
      "outputs": [
        {
          "name": "stdout",
          "output_type": "stream",
          "text": [
            "[0 1 2 3 4 5]\n"
          ]
        }
      ],
      "source": [
        "b=np.arange(6)\n",
        "print(b)"
      ]
    },
    {
      "cell_type": "code",
      "execution_count": null,
      "metadata": {
        "id": "CFfGuVW6gW-z",
        "outputId": "e6d322d3-6b4f-45de-d135-9974df451946"
      },
      "outputs": [
        {
          "name": "stdout",
          "output_type": "stream",
          "text": [
            "[ 0.  2.  4.  6.  8. 10.]\n"
          ]
        }
      ],
      "source": [
        "c=np.linspace(0,10,6) # con linspace se limitan el número de elementos\n",
        "print(c)"
      ]
    },
    {
      "cell_type": "markdown",
      "metadata": {
        "id": "9A_hbyXYgW-z"
      },
      "source": [
        "### Propiedades básicas de las matrices"
      ]
    },
    {
      "cell_type": "markdown",
      "metadata": {
        "id": "HgePDEyxgW-z"
      },
      "source": [
        "Las características básicas de las matrices peuden accederse mediante las propiedades de los objetos de la clase **Numpy**"
      ]
    },
    {
      "cell_type": "code",
      "execution_count": null,
      "metadata": {
        "id": "zjNQwVBUgW-0",
        "outputId": "401616c3-0347-4ce7-af1a-927fc1737721"
      },
      "outputs": [
        {
          "name": "stdout",
          "output_type": "stream",
          "text": [
            "Número de dimensiones: 2\n",
            "Dimensiones: (2, 4)\n",
            "Número de elementos: 8\n",
            "Tipo de datos del objeto: <class 'numpy.ndarray'>\n"
          ]
        }
      ],
      "source": [
        "print('Número de dimensiones:',matriz_1.ndim)\n",
        "print('Dimensiones:', matriz_1.shape)\n",
        "print('Número de elementos:', matriz_1.size)\n",
        "print('Tipo de datos del objeto:' ,type(matriz_1))"
      ]
    },
    {
      "cell_type": "markdown",
      "metadata": {
        "id": "gWINvZWSgW-0"
      },
      "source": [
        "### Cambiando forma y tamaño"
      ]
    },
    {
      "cell_type": "markdown",
      "metadata": {
        "id": "C_kXpC9HgW-0"
      },
      "source": [
        "Los métodos siguientes permiten cambiar la forma y el tamaño de la matriz: "
      ]
    },
    {
      "cell_type": "code",
      "execution_count": null,
      "metadata": {
        "id": "LJaU4td8gW-0",
        "outputId": "a68839af-c19a-461a-c53b-4b439f78f871"
      },
      "outputs": [
        {
          "name": "stdout",
          "output_type": "stream",
          "text": [
            "[[ 1  2  3  4]\n",
            " [ 5  6  7  8]\n",
            " [ 9 10 11 12]]\n"
          ]
        }
      ],
      "source": [
        "m=np.array([[1, 2, 3, 4],[5, 6, 7, 8],[9,10,11,12]])\n",
        "print(m)"
      ]
    },
    {
      "cell_type": "code",
      "execution_count": null,
      "metadata": {
        "id": "BhVJVLrYgW-0",
        "outputId": "0e1734f9-3f80-43aa-d321-1e3176605172"
      },
      "outputs": [
        {
          "name": "stdout",
          "output_type": "stream",
          "text": [
            "[[ 1  2  3  4  5  6]\n",
            " [ 7  8  9 10 11 12]]\n"
          ]
        }
      ],
      "source": [
        "m.resize(2,6)\n",
        "print(m)"
      ]
    },
    {
      "cell_type": "code",
      "execution_count": null,
      "metadata": {
        "id": "MYdzOokJgW-0",
        "outputId": "bc8f7a5a-0978-497b-deb3-1a6cf954690e"
      },
      "outputs": [
        {
          "name": "stdout",
          "output_type": "stream",
          "text": [
            "[ 1  2  3  4  5  6  7  8  9 10 11 12]\n"
          ]
        }
      ],
      "source": [
        "print(m.ravel())"
      ]
    },
    {
      "cell_type": "code",
      "execution_count": null,
      "metadata": {
        "id": "Cr46Zr3BgW-0",
        "outputId": "0306a225-03cc-43a3-9949-039b51611584"
      },
      "outputs": [
        {
          "name": "stdout",
          "output_type": "stream",
          "text": [
            "[[ 1  2  3  4  5  6]\n",
            " [ 7  8  9 10 11 12]]\n"
          ]
        }
      ],
      "source": [
        "print(m)\n"
      ]
    },
    {
      "cell_type": "code",
      "execution_count": null,
      "metadata": {
        "id": "wihVSZeUgW-1",
        "outputId": "dad672a7-d8a6-4b9d-ec05-b3b85d9c2580"
      },
      "outputs": [
        {
          "name": "stdout",
          "output_type": "stream",
          "text": [
            "[ 1  2  3  4  5  6  7  8  9 10 11 12]\n"
          ]
        }
      ],
      "source": [
        "p=m.ravel()\n",
        "print(p)"
      ]
    },
    {
      "cell_type": "code",
      "execution_count": null,
      "metadata": {
        "id": "O3WEdFI6gW-1",
        "outputId": "acd720b1-8a67-47c2-9ea5-18f00283e48b"
      },
      "outputs": [
        {
          "name": "stdout",
          "output_type": "stream",
          "text": [
            "[[ 1  2]\n",
            " [ 3  4]\n",
            " [ 5  6]\n",
            " [ 7  8]\n",
            " [ 9 10]\n",
            " [11 12]]\n"
          ]
        }
      ],
      "source": [
        "q=p.reshape(6,2)\n",
        "print(q)"
      ]
    },
    {
      "cell_type": "code",
      "execution_count": null,
      "metadata": {
        "id": "UhiBQBe7gW-1",
        "outputId": "8ecf5ffc-065e-4745-db04-1b12179f419a"
      },
      "outputs": [
        {
          "name": "stdout",
          "output_type": "stream",
          "text": [
            "[[ 1  3  5  7  9 11]\n",
            " [ 2  4  6  8 10 12]]\n"
          ]
        }
      ],
      "source": [
        "print(q.transpose())"
      ]
    },
    {
      "cell_type": "markdown",
      "metadata": {
        "id": "TB-kKsOxgW-1"
      },
      "source": [
        "### Slicing: Extrayendo submatrices "
      ]
    },
    {
      "cell_type": "markdown",
      "metadata": {
        "id": "7JZSCzPrgW-1"
      },
      "source": [
        "Los rangos de índices para  las submatrices a extraer se definen con tres valores: start, stop, step, los dos valores primeros son índices y el tercero indica el número de elementos a extraer."
      ]
    },
    {
      "cell_type": "code",
      "execution_count": null,
      "metadata": {
        "id": "koM3unVkgW-1",
        "outputId": "e10960ec-7b0e-414a-92ca-b71c69b167a2"
      },
      "outputs": [
        {
          "name": "stdout",
          "output_type": "stream",
          "text": [
            "[ 1  2  3  4  5  6  7  8  9 10 11 12]\n",
            "Extrayendo \n",
            "[4 6 8]\n"
          ]
        }
      ],
      "source": [
        "q=q.ravel()\n",
        "print(q)\n",
        "print('Extrayendo ')\n",
        "print(q[3:9:2]) # el elemento de índice 9 no se extrae, pero sí el de índice 3"
      ]
    },
    {
      "cell_type": "markdown",
      "metadata": {
        "id": "cf28SawigW-1"
      },
      "source": [
        "Si la matriz es multidimensional se especifica el rango deseado en todas las dimensiones (e.g filas y cols, [0:7:2, 1] para extraer elementos de la col=1)"
      ]
    },
    {
      "cell_type": "code",
      "execution_count": null,
      "metadata": {
        "id": "CO1g5nYmgW-8",
        "outputId": "095e2023-1b8b-40a6-b760-661859ef46a7"
      },
      "outputs": [
        {
          "name": "stdout",
          "output_type": "stream",
          "text": [
            "[[ 1  2  3  4]\n",
            " [ 5  6  7  8]\n",
            " [ 9 10 11 12]]\n"
          ]
        }
      ],
      "source": [
        "q=q.reshape(3,4)\n",
        "print(q)"
      ]
    },
    {
      "cell_type": "code",
      "execution_count": null,
      "metadata": {
        "id": "uXesIKnGgW-8",
        "outputId": "5601bbfd-12fe-4e57-8d1c-21fa0b63f2e5"
      },
      "outputs": [
        {
          "name": "stdout",
          "output_type": "stream",
          "text": [
            "[[ 6  7]\n",
            " [10 11]]\n"
          ]
        }
      ],
      "source": [
        "r=q[1:3, 1:3] # los elementos de índice 3 no se extraen\n",
        "print(r)"
      ]
    },
    {
      "cell_type": "markdown",
      "metadata": {
        "id": "YwoH_goygW-8"
      },
      "source": [
        "Para extraer toda una fila o toda una columna simplemente se omite el valor del final del rango despues de los dos puntos (:):"
      ]
    },
    {
      "cell_type": "code",
      "execution_count": null,
      "metadata": {
        "id": "8zHHeVWwgW-9",
        "outputId": "4e963ccf-398b-478e-98ef-e56d506022c0"
      },
      "outputs": [
        {
          "name": "stdout",
          "output_type": "stream",
          "text": [
            "La tercera columna de q vale: [ 3  7 11]\n"
          ]
        }
      ],
      "source": [
        "t=q[:,2]\n",
        "print('La tercera columna de q vale:', t)"
      ]
    },
    {
      "cell_type": "code",
      "execution_count": null,
      "metadata": {
        "id": "ofdjgCOxgW--",
        "outputId": "389317e7-24fa-4ada-ea96-934bf6586508"
      },
      "outputs": [
        {
          "name": "stdout",
          "output_type": "stream",
          "text": [
            "[[ 1  2  3  4]\n",
            " [ 5  6  7  8]\n",
            " [ 9 10 11 12]]\n"
          ]
        }
      ],
      "source": [
        "print(q)"
      ]
    },
    {
      "cell_type": "code",
      "execution_count": null,
      "metadata": {
        "id": "LsmJ-2MCgW-_",
        "outputId": "a28a0d17-33f8-4e66-c7f2-71156da4f8a7"
      },
      "outputs": [
        {
          "name": "stdout",
          "output_type": "stream",
          "text": [
            "[[ 9 10 11 12]]\n"
          ]
        }
      ],
      "source": [
        "z=q[2:,:]\n",
        "print(z)"
      ]
    },
    {
      "cell_type": "markdown",
      "metadata": {
        "id": "GOMyoz8CgW-_"
      },
      "source": [
        "También los puntos supensivos **\"...\"** pueden emplearse para indicar todos los elementos en una dirección."
      ]
    },
    {
      "cell_type": "code",
      "execution_count": null,
      "metadata": {
        "id": "_ikaPGOHgW-_",
        "outputId": "aebbad54-4190-4cf5-8747-0574f70f595e"
      },
      "outputs": [
        {
          "name": "stdout",
          "output_type": "stream",
          "text": [
            "[ 4  8 12]\n"
          ]
        }
      ],
      "source": [
        "print(q[...,3])"
      ]
    },
    {
      "cell_type": "code",
      "execution_count": null,
      "metadata": {
        "id": "E_CkxvpbgW-_",
        "outputId": "56d4d000-5e0d-4e31-e99b-df0e4145248c"
      },
      "outputs": [
        {
          "name": "stdout",
          "output_type": "stream",
          "text": [
            "[ 4  8 12]\n"
          ]
        }
      ],
      "source": [
        "print(q[:,3])"
      ]
    },
    {
      "cell_type": "markdown",
      "metadata": {
        "id": "yaxgS9EAgW-_"
      },
      "source": [
        "### Operaciones aritméticas\n",
        "Arithmetic operations are made element by element."
      ]
    },
    {
      "cell_type": "code",
      "execution_count": null,
      "metadata": {
        "id": "5gBgAnf9gW-_",
        "outputId": "5c612140-f788-426d-da76-ef5393dbba8e"
      },
      "outputs": [
        {
          "name": "stdout",
          "output_type": "stream",
          "text": [
            "[[ 8 10 12]\n",
            " [14 16 18]]\n"
          ]
        }
      ],
      "source": [
        "x=np.array([[1,2,3],[4,5,6]])\n",
        "y=np.array([[7,8,9],[10,11,12]])\n",
        "print(x+y)"
      ]
    },
    {
      "cell_type": "code",
      "execution_count": null,
      "metadata": {
        "id": "sfmSJsomgW_A",
        "outputId": "8ba59bc7-3d83-46fa-a301-b258aee1323a"
      },
      "outputs": [
        {
          "name": "stdout",
          "output_type": "stream",
          "text": [
            "[[0 0 0]\n",
            " [2 1 0]]\n"
          ]
        }
      ],
      "source": [
        "print(np.remainder(y,x))"
      ]
    },
    {
      "cell_type": "code",
      "execution_count": null,
      "metadata": {
        "id": "eLAigIhpgW_A",
        "outputId": "c11fb485-60eb-40fb-ba5f-b187d315f80e"
      },
      "outputs": [
        {
          "name": "stdout",
          "output_type": "stream",
          "text": [
            "[[ 1  4  9]\n",
            " [16 25 36]]\n"
          ]
        }
      ],
      "source": [
        "print(x**2)"
      ]
    },
    {
      "cell_type": "code",
      "execution_count": null,
      "metadata": {
        "id": "ect6lkLOgW_A",
        "outputId": "de9c7299-ae03-42e2-e424-eccd1cd59cb0"
      },
      "outputs": [
        {
          "name": "stdout",
          "output_type": "stream",
          "text": [
            "[[6 6 6]\n",
            " [6 6 6]]\n"
          ]
        }
      ],
      "source": [
        "print(y-x)"
      ]
    },
    {
      "cell_type": "markdown",
      "metadata": {
        "id": "uouuxxfmgW_A"
      },
      "source": [
        "### Otras funciones"
      ]
    },
    {
      "cell_type": "code",
      "execution_count": null,
      "metadata": {
        "id": "wwor_OplgW_A",
        "outputId": "da458492-9959-40b0-cf09-464597c3ea4c"
      },
      "outputs": [
        {
          "name": "stdout",
          "output_type": "stream",
          "text": [
            "[[ True  True  True]\n",
            " [ True False False]]\n"
          ]
        }
      ],
      "source": [
        "print(x<5)"
      ]
    },
    {
      "cell_type": "markdown",
      "metadata": {
        "id": "030RN1I6gW_B"
      },
      "source": [
        "Estas funciones trabajan elemento a elemento:\n",
        "- np.around() :Redondea al entero mas cercano\n",
        "- np.trunc() : trunca los decimales de lso elementos\n",
        "- np.floor() : redondea al entero menor\n",
        "- np.ceil() : redondea al entero mayor\n",
        "- np.log() : logaritmo"
      ]
    },
    {
      "cell_type": "code",
      "execution_count": null,
      "metadata": {
        "id": "1LjTJT5igW_B",
        "outputId": "7c998e8e-d6a8-4c06-9ed0-4d74708bbf7e"
      },
      "outputs": [
        {
          "name": "stdout",
          "output_type": "stream",
          "text": [
            "[[1 2 3]\n",
            " [4 5 6]]\n",
            "1\n",
            "[4 5 6]\n",
            "[ 1  3  6 10 15 21]\n",
            "1.707825127659933\n"
          ]
        }
      ],
      "source": [
        "print(x)\n",
        "print(np.min(x)) # mínimo de toda la matriz\n",
        "print(np.max(x, axis=0)) # calcula màximos por cada columna\n",
        "print(np.cumsum(x)) # suma acumulativa de los elementos\n",
        "print(x.std()) # desviación estandar"
      ]
    }
  ],
  "metadata": {
    "kernelspec": {
      "display_name": "Python 3",
      "language": "python",
      "name": "python3"
    },
    "language_info": {
      "codemirror_mode": {
        "name": "ipython",
        "version": 3
      },
      "file_extension": ".py",
      "mimetype": "text/x-python",
      "name": "python",
      "nbconvert_exporter": "python",
      "pygments_lexer": "ipython3",
      "version": "3.5.5"
    },
    "colab": {
      "provenance": [],
      "include_colab_link": true
    }
  },
  "nbformat": 4,
  "nbformat_minor": 0
}