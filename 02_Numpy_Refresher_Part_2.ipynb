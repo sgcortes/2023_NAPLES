{
  "cells": [
    {
      "cell_type": "markdown",
      "metadata": {
        "id": "view-in-github",
        "colab_type": "text"
      },
      "source": [
        "<a href=\"https://colab.research.google.com/github/sgcortes/2023_NAPLES/blob/main/02_Numpy_Refresher_Part_2.ipynb\" target=\"_parent\"><img src=\"https://colab.research.google.com/assets/colab-badge.svg\" alt=\"Open In Colab\"/></a>"
      ]
    },
    {
      "cell_type": "markdown",
      "metadata": {
        "id": "ou2mMA50HvHE"
      },
      "source": [
        "<h1 style=\"font-size:30px;\">Numpy Refresher (Part-2)</h1>\n",
        "\n",
        "\n",
        "<img src='https://learnopencv.com/wp-content/uploads/2022/01/c4_01_NumPy_logo.png' width=200 align='left'><br/>"
      ]
    },
    {
      "cell_type": "markdown",
      "source": [
        "## Table of Contents\n",
        "\n",
        "* [1 Understanding Array Dimensions and Reshaping NumPy Arrays](#1-Understanding-Array-Dimensions-and-Reshaping-NumPy-Arrays)\n",
        "* [2 Combining Arrays / Matrices](#2-Combining-Arrays-/-Matrices)"
      ],
      "metadata": {
        "id": "S24qVpqKQS2W"
      }
    },
    {
      "cell_type": "code",
      "execution_count": null,
      "metadata": {
        "id": "OKAnur1Q7zsA"
      },
      "outputs": [],
      "source": [
        "import numpy as np\n",
        "\n",
        "def array_info(array):\n",
        "    print('Array:\\n{}'.format(array))\n",
        "    print('Data type:\\t{}'.format(array.dtype))\n",
        "    print('Array shape:\\t{}'.format(array.shape))\n",
        "    print('Array Dim:\\t{}\\n'.format(array.ndim))"
      ]
    },
    {
      "cell_type": "markdown",
      "metadata": {
        "id": "O8eKNI8_HvHl"
      },
      "source": [
        "## 1 Understanding Array Dimensions and Reshaping NumPy Arrays\n",
        "\n",
        "Reshaping an array/matrix is often required in machine learning and computer vision and is a fundamental concept that should be fully understood. **Reshaping an array changes the shape of the data without altering the data itself. Reshaping arrays requires that the number of data elements remains constant**. In NumPy we will use the `reshape` method to reshape NumPy arrays."
      ]
    },
    {
      "cell_type": "markdown",
      "metadata": {
        "id": "zAxeOH4FHvHl"
      },
      "source": [
        "### 1.1 Reshape\n",
        "\n",
        "<hr style=\"border:none; height: 4px; background-color:#D3D3D3\" />\n",
        "\n",
        "Either syntax below can be used:\n",
        "\n",
        "``` python\n",
        "result = np.reshape(a, newshape)\n",
        "\n",
        "result = a.reshape(newshape)\n",
        "```\n",
        "\n",
        "Gives a new shape to a NumPy array `a` without changing its data.\n",
        "\n",
        "Documentation: <a href=\"https://docs.scipy.org/doc/numpy/reference/generated/numpy.reshape.html\" target=_blank>np.reshape</a>\n",
        "\n",
        "<hr style=\"border:none; height: 4px; background-color:#D3D3D3\" />"
      ]
    },
    {
      "cell_type": "markdown",
      "metadata": {
        "id": "BcgpJhkT7zsD"
      },
      "source": [
        "### <font style=\"color:rgb(50,120,230)\">Converting 1D Arrays to 2D Arrays</font>\n",
        "\n",
        "We will start by creating a 1D array using `arange`. The shape of an array is always represented by a tuple. Notice that the size of the 1D array below is represented by the tuple: `(12, )`, which indicates it has a single dimension with 12 elements."
      ]
    },
    {
      "cell_type": "code",
      "execution_count": null,
      "metadata": {
        "id": "4huJ9vDQ7zsD",
        "outputId": "8be66d97-53e1-4c5e-95b6-765272bffe2a"
      },
      "outputs": [
        {
          "name": "stdout",
          "output_type": "stream",
          "text": [
            "Create a 1D array:\n",
            "Array:\n",
            "[ 1  2  3  4  5  6  7  8  9 10 11 12]\n",
            "Data type:\tint64\n",
            "Array shape:\t(12,)\n",
            "Array Dim:\t1\n",
            "\n",
            "a[0]   =  1\n"
          ]
        }
      ],
      "source": [
        "# Create a 1D array.\n",
        "print('Create a 1D array:')\n",
        "a = np.arange(1, 13, dtype=int)\n",
        "array_info(a)\n",
        "print(\"a[0]   = \", a[0])"
      ]
    },
    {
      "cell_type": "markdown",
      "metadata": {
        "id": "Rn4XB53M7zsE"
      },
      "source": [
        "Next, we will reshape the 1D array into a 2D array using `reshape(1, 12)` and notice that this does not change the number of elements in the array; it simply changes the shape by adding a new dimension to the array (which also changes how the elements within the array are accessed). In this case, we are creating a 2D array with a single row and 12 columns. The notion of rows and columns to describe an array is a convenient mental construct for 2D arrays, but NumPy uses `axis = 0, 1, 2, etc.`, to specify the dimensions of an array where `axis=0` represents the 1st dimension, `axis=1` the 2nd dimension, and so on. `axis=0` corresponds to the rows and `axis=1` corresponds to the columns. Beyond that, the 3rd and higher dimensions of a NumPy array are referred to by their axes."
      ]
    },
    {
      "cell_type": "code",
      "execution_count": null,
      "metadata": {
        "id": "7qfoLiQP7zsE",
        "outputId": "4ba938ab-687d-434f-d91d-9d00ab27d47a"
      },
      "outputs": [
        {
          "name": "stdout",
          "output_type": "stream",
          "text": [
            "Array:\n",
            "[[ 1  2  3  4  5  6  7  8  9 10 11 12]]\n",
            "Data type:\tint64\n",
            "Array shape:\t(1, 12)\n",
            "Array Dim:\t2\n",
            "\n",
            "a[0]   =  [ 1  2  3  4  5  6  7  8  9 10 11 12]\n",
            "a[0,5] =  6\n"
          ]
        }
      ],
      "source": [
        "# Reshape the 1D array to a (1x12) 2D array.\n",
        "a = a.reshape(1, 12)\n",
        "array_info(a)\n",
        "\n",
        "# Print some values from the array.\n",
        "print(\"a[0]   = \", a[0])                     \n",
        "print(\"a[0,5] = \", a[0, 5])"
      ]
    },
    {
      "cell_type": "markdown",
      "metadata": {
        "id": "k6j77NCn7zsF"
      },
      "source": [
        "The same reshaping can also be accomplished with `reshape(1, -1)` as shown below, which may be convenient when the total number of elements is large."
      ]
    },
    {
      "cell_type": "code",
      "execution_count": null,
      "metadata": {
        "id": "LSnhWOiZ7zsF",
        "outputId": "65edce5a-69e6-4fa1-a01d-0caa8d81ccfd",
        "scrolled": true
      },
      "outputs": [
        {
          "name": "stdout",
          "output_type": "stream",
          "text": [
            "Array:\n",
            "[[ 1  2  3  4  5  6  7  8  9 10 11 12]]\n",
            "Data type:\tint64\n",
            "Array shape:\t(1, 12)\n",
            "Array Dim:\t2\n",
            "\n"
          ]
        }
      ],
      "source": [
        "# Rehape the 1D array to a (1x12) 2D array using reshape(1, -1).\n",
        "a = a.reshape(1, -1)\n",
        "array_info(a)"
      ]
    },
    {
      "cell_type": "markdown",
      "metadata": {
        "id": "jNZmUr577zsF"
      },
      "source": [
        "We can also reshape the 1D array into a (12x1) 2D array. "
      ]
    },
    {
      "cell_type": "code",
      "execution_count": null,
      "metadata": {
        "id": "IfnRkT7e7zsG",
        "outputId": "ac3c1b68-fa0f-4e47-926b-f1370484803e"
      },
      "outputs": [
        {
          "name": "stdout",
          "output_type": "stream",
          "text": [
            "Array:\n",
            "[[ 1]\n",
            " [ 2]\n",
            " [ 3]\n",
            " [ 4]\n",
            " [ 5]\n",
            " [ 6]\n",
            " [ 7]\n",
            " [ 8]\n",
            " [ 9]\n",
            " [10]\n",
            " [11]\n",
            " [12]]\n",
            "Data type:\tint64\n",
            "Array shape:\t(12, 1)\n",
            "Array Dim:\t2\n",
            "\n",
            "a[0]   =  [1]\n",
            "a[5,0] =  6\n"
          ]
        }
      ],
      "source": [
        "# Rehape the 1D array to a (12x1) 2D array.\n",
        "a = a.reshape(12, 1)\n",
        "array_info(a)\n",
        "print(\"a[0]   = \", a[0])\n",
        "print(\"a[5,0] = \", a[5, 0])"
      ]
    },
    {
      "cell_type": "markdown",
      "metadata": {
        "id": "BO0jpOv67zsG"
      },
      "source": [
        "Notice that we can reshape the array into any shape that are factors of 12. In the code below, we rehape the array to `(3x4)`. Other possible transformations include: `(4x3)`, `(2x6)` and `(6x2)`. Depending on the application and the data processing required, reshaping data can be very helpful and is often required for use with deep learning frameworks."
      ]
    },
    {
      "cell_type": "code",
      "execution_count": null,
      "metadata": {
        "id": "V8_hsfcB7zsG",
        "outputId": "b25eb8b0-b875-4d2c-e76a-ed00004a2993"
      },
      "outputs": [
        {
          "name": "stdout",
          "output_type": "stream",
          "text": [
            "Array:\n",
            "[[ 1  2  3  4]\n",
            " [ 5  6  7  8]\n",
            " [ 9 10 11 12]]\n",
            "Data type:\tint64\n",
            "Array shape:\t(3, 4)\n",
            "Array Dim:\t2\n",
            "\n",
            "a[1] =  [5 6 7 8]\n"
          ]
        }
      ],
      "source": [
        "# Rehape the 1D array to a (3x4) 2D array.\n",
        "a = a.reshape(3, 4)\n",
        "array_info(a)\n",
        "print(\"a[1] = \", a[1])"
      ]
    },
    {
      "cell_type": "markdown",
      "metadata": {
        "id": "idOn2bDC7zsH"
      },
      "source": [
        "### <font style=\"color:rgb(50,120,230)\">Reshaping Multi-Demensional Arrays</font>\n",
        "\n",
        "Reshaping higher dimensional data is no different than reshaping 2D arrays. The example below is provided to emphasize that the first axis coincides with the outer-most bracket and the last axis coincides with the inner-most bracket. "
      ]
    },
    {
      "cell_type": "code",
      "execution_count": null,
      "metadata": {
        "id": "LpQQuxWu7zsH",
        "outputId": "fe9a25d7-8248-4134-f35a-9cef7d09250e"
      },
      "outputs": [
        {
          "name": "stdout",
          "output_type": "stream",
          "text": [
            "Array:\n",
            "[[[10 11]\n",
            "  [10 12]\n",
            "  [10 13]\n",
            "  [10 14]\n",
            "  [10 15]]\n",
            "\n",
            " [[20 21]\n",
            "  [20 22]\n",
            "  [20 23]\n",
            "  [20 24]\n",
            "  [20 25]]\n",
            "\n",
            " [[30 31]\n",
            "  [30 32]\n",
            "  [30 33]\n",
            "  [30 34]\n",
            "  [30 35]]]\n",
            "Data type:\tint64\n",
            "Array shape:\t(3, 5, 2)\n",
            "Array Dim:\t3\n",
            "\n",
            "b[0,0,:] =  [10 11]\n",
            "b[2,0,:] =  [30 31]\n"
          ]
        }
      ],
      "source": [
        "# Create a (3x5x2) 3D array.\n",
        "b = np.array([\n",
        "    [[10, 11], [10, 12], [10, 13], [10, 14], [10, 15]],\n",
        "    [[20, 21], [20, 22], [20, 23], [20, 24], [20, 25]],\n",
        "    [[30, 31], [30, 32], [30, 33], [30, 34], [30, 35]],\n",
        "])\n",
        "array_info(b)\n",
        "print(\"b[0,0,:] = \", b[0, 0, :])\n",
        "print(\"b[2,0,:] = \", b[2, 0, :])"
      ]
    },
    {
      "cell_type": "code",
      "execution_count": null,
      "metadata": {
        "id": "XIVp8CHW7zsH",
        "outputId": "e554735f-e31b-4318-e244-4528e6bcc2d8"
      },
      "outputs": [
        {
          "name": "stdout",
          "output_type": "stream",
          "text": [
            "Array:\n",
            "[[10 11 10 12 10 13 10 14 10 15]\n",
            " [20 21 20 22 20 23 20 24 20 25]\n",
            " [30 31 30 32 30 33 30 34 30 35]]\n",
            "Data type:\tint64\n",
            "Array shape:\t(3, 10)\n",
            "Array Dim:\t2\n",
            "\n"
          ]
        }
      ],
      "source": [
        "b = b.reshape(3, 10)\n",
        "array_info(b)"
      ]
    },
    {
      "cell_type": "markdown",
      "metadata": {
        "id": "ziE6ia9v7zsH"
      },
      "source": [
        "### <font style=\"color:rgb(50,120,230)\">Adding an Axis / Dimension</font>\n",
        "\n",
        "It is sometimes necessary to add an axis to a NumPy array to comply with the data shape required by systems that process the data. This is especially true with deep learning frameworks. Notice that adding a dimension to an existing NumPy array is always possible since it does not change the number of elements in the array (it only changes how the elements are accessed within the array). In the example below, we are reshaping the 2D `(3x3)` array into a 3D `(1x3x3)` array. We are effectively adding an axis to the very first position in the tuple. This new dimension is redundant, but reshaping data is often related to compliance with other data interfaces."
      ]
    },
    {
      "cell_type": "code",
      "execution_count": null,
      "metadata": {
        "id": "7rggPFNN7zsH",
        "outputId": "cb1eff07-5ad2-4cbf-ca4a-c95bbf14d43c"
      },
      "outputs": [
        {
          "name": "stdout",
          "output_type": "stream",
          "text": [
            "Array:\n",
            "[[1 2 3]\n",
            " [4 5 6]\n",
            " [7 8 9]]\n",
            "Data type:\tint64\n",
            "Array shape:\t(3, 3)\n",
            "Array Dim:\t2\n",
            "\n"
          ]
        }
      ],
      "source": [
        "# Create a (3x3) 2D array.\n",
        "b = np.arange(1, 10, dtype=int)\n",
        "b = b.reshape(3, 3)\n",
        "array_info(b)"
      ]
    },
    {
      "cell_type": "code",
      "execution_count": null,
      "metadata": {
        "id": "4U1kUZMa7zsI",
        "outputId": "28bd3575-fbd3-49c8-820a-afb06f882144"
      },
      "outputs": [
        {
          "name": "stdout",
          "output_type": "stream",
          "text": [
            "Array:\n",
            "[[[1 2 3]\n",
            "  [4 5 6]\n",
            "  [7 8 9]]]\n",
            "Data type:\tint64\n",
            "Array shape:\t(1, 3, 3)\n",
            "Array Dim:\t3\n",
            "\n"
          ]
        }
      ],
      "source": [
        "# Add a new axis to the 3x3 array to create a 3D array.\n",
        "b = b.reshape(1, 3, 3)\n",
        "array_info(b)"
      ]
    },
    {
      "cell_type": "markdown",
      "metadata": {
        "id": "c5vd52CTHvHm"
      },
      "source": [
        "### 1.2 Expand Dimensions\n",
        "\n",
        "<hr style=\"border:none; height: 4px; background-color:#D3D3D3\" />\n",
        "\n",
        "In the previous section, we used `reshape` to add a new axis. We can use `np.expand_dims` or `np.newaxis` to do the same thing.\n",
        "\n",
        "``` python\n",
        "np.expand_dims(a, axis)\n",
        "```\n",
        "\n",
        "Expand the shape of an array. Insert a new axis that will appear at the axis position in the expanded array shape.\n",
        "\n",
        "Documentation: <a href=\"https://docs.scipy.org/doc/numpy/reference/generated/numpy.expand_dims.html\" target=_blank>np.expand_dims</a> <a href=\"https://numpy.org/doc/stable/reference/constants.html?highlight=newaxis#numpy.newaxis\" target=_blank>np.newaxis</a>\n",
        "\n",
        "<hr style=\"border:none; height: 4px; background-color:#D3D3D3\" />"
      ]
    },
    {
      "cell_type": "code",
      "execution_count": null,
      "metadata": {
        "id": "umSEWpXLHvHm",
        "outputId": "ca2b1dcf-6d72-4adc-a978-f7084aef63d2"
      },
      "outputs": [
        {
          "name": "stdout",
          "output_type": "stream",
          "text": [
            "Create a 1D array:\n",
            "Array:\n",
            "[1 2 3 4 5 6 7 8 9]\n",
            "Data type:\tint64\n",
            "Array shape:\t(9,)\n",
            "Array Dim:\t1\n",
            "\n",
            "Array:\n",
            "[[1 2 3]\n",
            " [4 5 6]\n",
            " [7 8 9]]\n",
            "Data type:\tint64\n",
            "Array shape:\t(3, 3)\n",
            "Array Dim:\t2\n",
            "\n",
            "Using np.expand_dims:\n",
            "Array:\n",
            "[[[1 2 3]\n",
            "  [4 5 6]\n",
            "  [7 8 9]]]\n",
            "Data type:\tint64\n",
            "Array shape:\t(1, 3, 3)\n",
            "Array Dim:\t3\n",
            "\n",
            "Using np.newaxis:\n",
            "Array:\n",
            "[[[1 2 3]\n",
            "  [4 5 6]\n",
            "  [7 8 9]]]\n",
            "Data type:\tint64\n",
            "Array shape:\t(1, 3, 3)\n",
            "Array Dim:\t3\n",
            "\n"
          ]
        }
      ],
      "source": [
        "# Create a 1D array.\n",
        "print('Create a 1D array:')\n",
        "c = np.arange(1, 10, dtype=int)\n",
        "array_info(c)\n",
        "\n",
        "# Reshape to a 3x3 2D array.\n",
        "c = c.reshape(3,3)\n",
        "array_info(c)\n",
        "\n",
        "# Expand dimensions using: np.expand_dims\n",
        "print('Using np.expand_dims:')\n",
        "c_expand = np.expand_dims(c, axis=0)\n",
        "array_info(c_expand)\n",
        "\n",
        "# Expand dimensions using: np.newaxis\n",
        "print('Using np.newaxis:')\n",
        "c_newaxis = c[np.newaxis, :, : ]\n",
        "array_info(c_newaxis)\n",
        "\n",
        "# You can also use `None`, but np.newaxis is prefered since it is more explicit.\n",
        "# print('Using None:')\n",
        "# c_none = c[None, :, : ]\n",
        "# array_info(c_none)"
      ]
    },
    {
      "cell_type": "markdown",
      "metadata": {
        "id": "3s5P2Np7HvHm"
      },
      "source": [
        "### 1.3 Squeeze\n",
        "\n",
        "Sometimes we need to remove the redundant axis (single-dimensional entries). We can use `np.squeeze` to do this.\n",
        "\n",
        "<hr style=\"border:none; height: 4px; background-color:#D3D3D3\" />\n",
        "\n",
        "``` python\n",
        "np.squeeze(a, axis=None)\n",
        "```\n",
        "\n",
        "Remove axes of length one from a.\n",
        "\n",
        "Documentation: <a href=\"https://docs.scipy.org/doc/numpy/reference/generated/numpy.squeeze.html\" target=_blank>np.squeeze</a>\n",
        "\n",
        "<hr style=\"border:none; height: 4px; background-color:#D3D3D3\" />"
      ]
    },
    {
      "cell_type": "code",
      "execution_count": null,
      "metadata": {
        "id": "GKa7l2tGHvHm",
        "outputId": "d4de60f8-2648-48c7-cac6-93e22bd50d9d"
      },
      "outputs": [
        {
          "name": "stdout",
          "output_type": "stream",
          "text": [
            "Array:\n",
            "[[[1 2 3]\n",
            "  [4 5 6]\n",
            "  [7 8 9]]]\n",
            "Data type:\tint64\n",
            "Array shape:\t(1, 3, 3)\n",
            "Array Dim:\t3\n",
            "\n"
          ]
        }
      ],
      "source": [
        "e = np.arange(1, 10, dtype=int)\n",
        "e = e.reshape(1, 3, 3) \n",
        "array_info(e)"
      ]
    },
    {
      "cell_type": "code",
      "execution_count": null,
      "metadata": {
        "id": "hZaJh1_G7zsJ",
        "outputId": "ef5fc27a-34d0-457c-a2e5-bf1bad7dcd25"
      },
      "outputs": [
        {
          "name": "stdout",
          "output_type": "stream",
          "text": [
            "Squeeze along axis=0:\n",
            "Array:\n",
            "[[1 2 3]\n",
            " [4 5 6]\n",
            " [7 8 9]]\n",
            "Data type:\tint64\n",
            "Array shape:\t(3, 3)\n",
            "Array Dim:\t2\n",
            "\n"
          ]
        }
      ],
      "source": [
        "print('Squeeze along axis=0:')\n",
        "e_squeezed = np.squeeze(e, axis=0)\n",
        "array_info(e_squeezed)"
      ]
    },
    {
      "cell_type": "code",
      "execution_count": null,
      "metadata": {
        "id": "2vvsnJez7zsJ",
        "outputId": "f9d8bee1-b269-4d2c-fbd1-d087951f14a3"
      },
      "outputs": [
        {
          "name": "stdout",
          "output_type": "stream",
          "text": [
            "Squeeze along axis=1, should get ValueError\n"
          ]
        },
        {
          "name": "stderr",
          "output_type": "stream",
          "text": [
            "Traceback (most recent call last):\n",
            "  File \"/var/folders/__/9cnms5ms0gz3wk9_cz4ctxqr0000gn/T/ipykernel_6590/685120187.py\", line 6, in <module>\n",
            "    e_squeezed_error = np.squeeze(e, axis=1)\n",
            "  File \"<__array_function__ internals>\", line 5, in squeeze\n",
            "  File \"/Users/billk/opt/dl-tf-keras-env/lib/python3.9/site-packages/numpy/core/fromnumeric.py\", line 1495, in squeeze\n",
            "    return squeeze(axis=axis)\n",
            "ValueError: cannot select an axis to squeeze out which has size not equal to one\n"
          ]
        }
      ],
      "source": [
        "import traceback\n",
        "\n",
        "# Should get value error.\n",
        "print('Squeeze along axis=1, should get ValueError')\n",
        "try:\n",
        "    e_squeezed_error = np.squeeze(e, axis=1)  \n",
        "except Exception as e:\n",
        "    traceback.print_exc()"
      ]
    },
    {
      "cell_type": "markdown",
      "metadata": {
        "id": "r15cTwuTHvHn"
      },
      "source": [
        "### 1.4 Reshape Revisit\n",
        "\n",
        "As we showed previously, we can use `reshape` with a -1 for one of the array axes without specifying a length. The examples below show how we can use this to create a specific number or rows or columns without regard to the other dimension as long as the number specified is a factor of the original size of the array."
      ]
    },
    {
      "cell_type": "code",
      "execution_count": null,
      "metadata": {
        "id": "tJZlsEe1HvHn",
        "outputId": "9c54164c-e709-4e63-a6a1-6b0520c47886"
      },
      "outputs": [
        {
          "name": "stdout",
          "output_type": "stream",
          "text": [
            "Array:\n",
            "[0 1 2 3 4 5 6 7 8 9]\n",
            "Data type:\tint64\n",
            "Array shape:\t(10,)\n",
            "Array Dim:\t1\n",
            "\n",
            "Reshape the array as two columns.\n",
            "Array:\n",
            "[[0 1]\n",
            " [2 3]\n",
            " [4 5]\n",
            " [6 7]\n",
            " [8 9]]\n",
            "Data type:\tint64\n",
            "Array shape:\t(5, 2)\n",
            "Array Dim:\t2\n",
            "\n"
          ]
        }
      ],
      "source": [
        "f = np.arange(10)\n",
        "array_info(f)\n",
        "\n",
        "print('Reshape the array as two columns.')\n",
        "f = f.reshape(-1, 2)\n",
        "array_info(f)"
      ]
    },
    {
      "cell_type": "code",
      "execution_count": null,
      "metadata": {
        "id": "BRBdWt357zsK",
        "outputId": "dcbe2ca9-8bdb-4adc-c043-e5c84aa09f64"
      },
      "outputs": [
        {
          "name": "stdout",
          "output_type": "stream",
          "text": [
            "Array:\n",
            "[0 1 2 3 4 5 6 7 8 9]\n",
            "Data type:\tint64\n",
            "Array shape:\t(10,)\n",
            "Array Dim:\t1\n",
            "\n",
            "Reshape the array as 2 rows.\n",
            "Array:\n",
            "[[0 1 2 3 4]\n",
            " [5 6 7 8 9]]\n",
            "Data type:\tint64\n",
            "Array shape:\t(2, 5)\n",
            "Array Dim:\t2\n",
            "\n"
          ]
        }
      ],
      "source": [
        "g = np.arange(10)\n",
        "array_info(g)\n",
        "\n",
        "print('Reshape the array as 2 rows.')\n",
        "g = g.reshape(2, -1)\n",
        "array_info(g)"
      ]
    },
    {
      "cell_type": "markdown",
      "metadata": {
        "id": "j4A40kcS7zsK"
      },
      "source": [
        "### <font style=\"color:rgb(50,120,230)\">Flattening Arrays</font>\n",
        "When images are processed by a Convolutional Neural Network (CNN), the shape of the image data is often represented as a four-dimensional array (also referred to as a tensor) which includes the image height and width, the number of channels, and the number of images in the 'batch' of images to be processed. For the sake of simplicity, in this example, we will ignore the dimension associated with the image channel. In the code cell below, we construct a multi-dimensional array that notionally represents the data associated with three separate images being processed in a CNN. "
      ]
    },
    {
      "cell_type": "code",
      "execution_count": null,
      "metadata": {
        "id": "Tpb-kyq97zsK",
        "outputId": "467ea924-464a-48f2-d720-4c0e754825fe"
      },
      "outputs": [
        {
          "name": "stdout",
          "output_type": "stream",
          "text": [
            "Array:\n",
            "[[[1. 1. 1. 1.]\n",
            "  [1. 1. 1. 1.]\n",
            "  [1. 1. 1. 1.]\n",
            "  [1. 1. 1. 1.]]\n",
            "\n",
            " [[2. 2. 2. 2.]\n",
            "  [2. 2. 2. 2.]\n",
            "  [2. 2. 2. 2.]\n",
            "  [2. 2. 2. 2.]]\n",
            "\n",
            " [[3. 3. 3. 3.]\n",
            "  [3. 3. 3. 3.]\n",
            "  [3. 3. 3. 3.]\n",
            "  [3. 3. 3. 3.]]]\n",
            "Data type:\tfloat64\n",
            "Array shape:\t(3, 4, 4)\n",
            "Array Dim:\t3\n",
            "\n"
          ]
        }
      ],
      "source": [
        "# Create three separate 4x4 arrays.\n",
        "h1 = np.full((4, 4), 1, dtype='float32')\n",
        "h2 = np.full((4, 4), 2, dtype='float32')\n",
        "h3 = np.full((4, 4), 3, dtype='float32')\n",
        "\n",
        "# Create a 3x4x4 array.\n",
        "h = np.zeros((3, 4, 4))\n",
        "h[0] = h1\n",
        "h[1] = h2\n",
        "h[2] = h3\n",
        "\n",
        "array_info(h)"
      ]
    },
    {
      "cell_type": "code",
      "execution_count": null,
      "metadata": {
        "id": "5uL3h37M7zsL",
        "outputId": "24b538e0-7579-4c2a-d746-cd5d2ca322c7"
      },
      "outputs": [
        {
          "name": "stdout",
          "output_type": "stream",
          "text": [
            "Array:\n",
            "[[[1. 1. 1. 1. 1. 1. 1. 1. 1. 1. 1. 1. 1. 1. 1. 1.]\n",
            "  [2. 2. 2. 2. 2. 2. 2. 2. 2. 2. 2. 2. 2. 2. 2. 2.]\n",
            "  [3. 3. 3. 3. 3. 3. 3. 3. 3. 3. 3. 3. 3. 3. 3. 3.]]]\n",
            "Data type:\tfloat64\n",
            "Array shape:\t(1, 3, 16)\n",
            "Array Dim:\t3\n",
            "\n"
          ]
        }
      ],
      "source": [
        "h = h.reshape(1, 3, 16) \n",
        "array_info(h)"
      ]
    },
    {
      "cell_type": "markdown",
      "metadata": {
        "id": "mGKOEhRlHvHn"
      },
      "source": [
        "## 2 Combining Arrays / Matrices\n",
        "\n",
        "Combining two or more arrays is a frequent operation in machine learning. Let's take a look at a few methods for doing this. \n"
      ]
    },
    {
      "cell_type": "markdown",
      "metadata": {
        "id": "II02HChPHvHn"
      },
      "source": [
        "### 2.1 Concatenate\n",
        "\n",
        "<hr style=\"border:none; height: 4px; background-color:#D3D3D3\" />\n",
        "\n",
        "``` python\n",
        "np.concatenate((a1, a2, ...), axis=0, out=None, dtype=None, casting=\"same_kind\")\n",
        "```\n",
        "\n",
        "Join a sequence of arrays along an existing axis.\n",
        "\n",
        "Documentation: <a href=\"https://docs.scipy.org/doc/numpy/reference/generated/numpy.concatenate.html\" target=_blank>np.concatenate</a>\n",
        "\n",
        "<hr style=\"border:none; height: 4px; background-color:#D3D3D3\" />"
      ]
    },
    {
      "cell_type": "code",
      "execution_count": null,
      "metadata": {
        "id": "w3_R2UezHvHo",
        "outputId": "200f3bae-c9cd-49f2-8c24-5ef821b041de"
      },
      "outputs": [
        {
          "name": "stdout",
          "output_type": "stream",
          "text": [
            "Array:\n",
            "[[1 2 3]\n",
            " [4 5 6]]\n",
            "Data type:\tint64\n",
            "Array shape:\t(2, 3)\n",
            "Array Dim:\t2\n",
            "\n",
            "Array:\n",
            "[[7 8 9]]\n",
            "Data type:\tint64\n",
            "Array shape:\t(1, 3)\n",
            "Array Dim:\t2\n",
            "\n",
            "Concatenate along axis zero:\n",
            "Array:\n",
            "[[1 2 3]\n",
            " [4 5 6]\n",
            " [7 8 9]]\n",
            "Data type:\tint64\n",
            "Array shape:\t(3, 3)\n",
            "Array Dim:\t2\n",
            "\n"
          ]
        }
      ],
      "source": [
        "a1 = np.array([[1, 2, 3], [4, 5, 6]])\n",
        "a2 = np.array([[7, 8, 9]])\n",
        "\n",
        "array_info(a1)\n",
        "array_info(a2)\n",
        "\n",
        "print('Concatenate along axis zero:')\n",
        "array = np.concatenate((a1, a2), axis=0)\n",
        "array_info(array)"
      ]
    },
    {
      "cell_type": "markdown",
      "metadata": {
        "id": "sj99eMpZHvHo"
      },
      "source": [
        "### 2.2 Horizontal Stacking: `hstack`\n",
        "\n",
        "<hr style=\"border:none; height: 4px; background-color:#D3D3D3\" />\n",
        "\n",
        "``` python\n",
        "np.hstack(tup)\n",
        "```\n",
        "\n",
        "Stack arrays in sequence horizontally (column-wise).\n",
        "\n",
        "Documentation: <a href=\"https://docs.scipy.org/doc/numpy/reference/generated/numpy.hstack.html#numpy.hstack\" target=_blank>np.hstack</a>\n",
        "\n",
        "<hr style=\"border:none; height: 4px; background-color:#D3D3D3\" />"
      ]
    },
    {
      "cell_type": "code",
      "execution_count": null,
      "metadata": {
        "id": "njXoIouaHvHo",
        "outputId": "64434bb9-e259-4153-fef2-ea19d4cdf22f"
      },
      "outputs": [
        {
          "name": "stdout",
          "output_type": "stream",
          "text": [
            "Array:\n",
            "[[1 1 1]\n",
            " [2 2 2]]\n",
            "Data type:\tint64\n",
            "Array shape:\t(2, 3)\n",
            "Array Dim:\t2\n",
            "\n",
            "Array:\n",
            "[[3 3 3 3]\n",
            " [4 4 4 4]]\n",
            "Data type:\tint64\n",
            "Array shape:\t(2, 4)\n",
            "Array Dim:\t2\n",
            "\n",
            "Horizontal stack:\n",
            "Array:\n",
            "[[1 1 1 3 3 3 3]\n",
            " [2 2 2 4 4 4 4]]\n",
            "Data type:\tint64\n",
            "Array shape:\t(2, 7)\n",
            "Array Dim:\t2\n",
            "\n"
          ]
        }
      ],
      "source": [
        "a1 = np.array([[1, 1, 1], [2, 2, 2]])\n",
        "a2 = np.array([[3, 3, 3, 3], [4, 4, 4, 4]])\n",
        "\n",
        "array_info(a1)\n",
        "array_info(a2)\n",
        "\n",
        "a_hstacked = np.hstack((a1, a2))\n",
        "\n",
        "print('Horizontal stack:')\n",
        "array_info(a_hstacked)"
      ]
    },
    {
      "cell_type": "code",
      "execution_count": null,
      "metadata": {
        "id": "LGzD41hIHvHo",
        "outputId": "45d942a0-028d-4851-a5f2-da570af18a31"
      },
      "outputs": [
        {
          "name": "stdout",
          "output_type": "stream",
          "text": [
            "Array:\n",
            "[[1]\n",
            " [2]\n",
            " [3]]\n",
            "Data type:\tint64\n",
            "Array shape:\t(3, 1)\n",
            "Array Dim:\t2\n",
            "\n",
            "Array:\n",
            "[[4]\n",
            " [5]\n",
            " [6]]\n",
            "Data type:\tint64\n",
            "Array shape:\t(3, 1)\n",
            "Array Dim:\t2\n",
            "\n",
            "Horizontal stack:\n",
            "Array:\n",
            "[[1 4]\n",
            " [2 5]\n",
            " [3 6]]\n",
            "Data type:\tint64\n",
            "Array shape:\t(3, 2)\n",
            "Array Dim:\t2\n",
            "\n"
          ]
        }
      ],
      "source": [
        "b1 = np.array([[1],[2],[3]])\n",
        "b2 = np.array([[4],[5],[6]])\n",
        "\n",
        "array_info(b1)\n",
        "array_info(b2)\n",
        "\n",
        "b_hstacked = np.hstack((b1, b2))\n",
        "\n",
        "print('Horizontal stack:')\n",
        "array_info(b_hstacked)"
      ]
    },
    {
      "cell_type": "markdown",
      "metadata": {
        "id": "zqBDY-IiHvHp"
      },
      "source": [
        "### 2.3 Vertical Stacking: `vstack`\n",
        "\n",
        "<hr style=\"border:none; height: 4px; background-color:#D3D3D3\" />\n",
        "\n",
        "``` python\n",
        "np.vstack(tup)\n",
        "```\n",
        "\n",
        "Stack arrays in sequence vertically (row-wise).\n",
        "\n",
        "\n",
        "Documentation: <a href=\"https://docs.scipy.org/doc/numpy/reference/generated/numpy.vstack.html#numpy.vstack\" target=_blank>np.vstack</a>\n",
        "\n",
        "<hr style=\"border:none; height: 4px; background-color:#D3D3D3\" />"
      ]
    },
    {
      "cell_type": "code",
      "execution_count": null,
      "metadata": {
        "id": "lZ8Qk53KHvHp",
        "outputId": "ab190768-41cb-457b-bdeb-d207e0d81abd"
      },
      "outputs": [
        {
          "name": "stdout",
          "output_type": "stream",
          "text": [
            "Array:\n",
            "[1 2 3]\n",
            "Data type:\tint64\n",
            "Array shape:\t(3,)\n",
            "Array Dim:\t1\n",
            "\n",
            "Array:\n",
            "[4 5 6]\n",
            "Data type:\tint64\n",
            "Array shape:\t(3,)\n",
            "Array Dim:\t1\n",
            "\n",
            "Vertical stack:\n",
            "Array:\n",
            "[[1 2 3]\n",
            " [4 5 6]]\n",
            "Data type:\tint64\n",
            "Array shape:\t(2, 3)\n",
            "Array Dim:\t2\n",
            "\n"
          ]
        }
      ],
      "source": [
        "a1 = np.array([1, 2, 3])\n",
        "a2 = np.array([4, 5, 6])\n",
        "\n",
        "array_info(a1)\n",
        "array_info(a2)\n",
        "\n",
        "a_vstacked = np.vstack((a1, a2))\n",
        "\n",
        "print('Vertical stack:')\n",
        "array_info(a_vstacked)"
      ]
    },
    {
      "cell_type": "code",
      "execution_count": null,
      "metadata": {
        "id": "xJ11PSTg7zsM",
        "outputId": "4b3346d4-940a-427a-944b-cc9a8172e110"
      },
      "outputs": [
        {
          "name": "stdout",
          "output_type": "stream",
          "text": [
            "Array:\n",
            "[[[1. 1. 1. 1.]\n",
            "  [1. 1. 1. 1.]\n",
            "  [1. 1. 1. 1.]\n",
            "  [1. 1. 1. 1.]]\n",
            "\n",
            " [[2. 2. 2. 2.]\n",
            "  [2. 2. 2. 2.]\n",
            "  [2. 2. 2. 2.]\n",
            "  [2. 2. 2. 2.]]\n",
            "\n",
            " [[3. 3. 3. 3.]\n",
            "  [3. 3. 3. 3.]\n",
            "  [3. 3. 3. 3.]\n",
            "  [3. 3. 3. 3.]]]\n",
            "Data type:\tfloat32\n",
            "Array shape:\t(3, 4, 4)\n",
            "Array Dim:\t3\n",
            "\n"
          ]
        }
      ],
      "source": [
        "# Create three separate 1x4x4 arrays.\n",
        "h1 = np.full((1, 4, 4), 1, dtype='float32')\n",
        "h2 = np.full((1, 4, 4), 2, dtype='float32')\n",
        "h3 = np.full((1, 4, 4), 3, dtype='float32')\n",
        "\n",
        "h = np.vstack((h1, h2, h3))\n",
        "array_info(h)"
      ]
    },
    {
      "cell_type": "code",
      "execution_count": null,
      "metadata": {
        "id": "LN9ohY1uHvH6"
      },
      "outputs": [],
      "source": []
    }
  ],
  "metadata": {
    "colab": {
      "provenance": [],
      "include_colab_link": true
    },
    "jupytext": {
      "encoding": "# -*- coding: utf-8 -*-",
      "formats": "ipynb,py:light"
    },
    "kernelspec": {
      "display_name": "Python 3",
      "language": "python",
      "name": "python3"
    },
    "language_info": {
      "codemirror_mode": {
        "name": "ipython",
        "version": 3
      },
      "file_extension": ".py",
      "mimetype": "text/x-python",
      "name": "python",
      "nbconvert_exporter": "python",
      "pygments_lexer": "ipython3",
      "version": "3.8.8"
    },
    "latex_envs": {
      "LaTeX_envs_menu_present": true,
      "autoclose": false,
      "autocomplete": true,
      "bibliofile": "biblio.bib",
      "cite_by": "apalike",
      "current_citInitial": 1,
      "eqLabelWithNumbers": true,
      "eqNumInitial": 1,
      "hotkeys": {
        "equation": "Ctrl-E",
        "itemize": "Ctrl-I"
      },
      "labels_anchors": false,
      "latex_user_defs": false,
      "report_style_numbering": false,
      "user_envs_cfg": false
    },
    "toc": {
      "base_numbering": 1,
      "nav_menu": {},
      "number_sections": true,
      "sideBar": true,
      "skip_h1_title": false,
      "title_cell": "Table of Contents",
      "title_sidebar": "Contents",
      "toc_cell": false,
      "toc_position": {},
      "toc_section_display": true,
      "toc_window_display": false
    },
    "varInspector": {
      "cols": {
        "lenName": 16,
        "lenType": 16,
        "lenVar": 40
      },
      "kernels_config": {
        "python": {
          "delete_cmd_postfix": "",
          "delete_cmd_prefix": "del ",
          "library": "var_list.py",
          "varRefreshCmd": "print(var_dic_list())"
        },
        "r": {
          "delete_cmd_postfix": ") ",
          "delete_cmd_prefix": "rm(",
          "library": "var_list.r",
          "varRefreshCmd": "cat(var_dic_list()) "
        }
      },
      "types_to_exclude": [
        "module",
        "function",
        "builtin_function_or_method",
        "instance",
        "_Feature"
      ],
      "window_display": false
    }
  },
  "nbformat": 4,
  "nbformat_minor": 0
}