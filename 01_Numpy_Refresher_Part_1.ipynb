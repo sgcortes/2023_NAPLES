{
  "cells": [
    {
      "cell_type": "markdown",
      "metadata": {
        "id": "ou2mMA50HvHE"
      },
      "source": [
        "<h1 style=\"font-size:30px;\">Numpy Refresher (Part-1)</h1>\n",
        "\n",
        "<img src='https://learnopencv.com/wp-content/uploads/2022/01/c4_01_NumPy_logo.png' width=200 align='left'><br/>"
      ]
    },
    {
      "cell_type": "markdown",
      "source": [
        "## Table of Contents\n",
        "\n",
        "* [1 Why NumPy?](#1-Why-do-we-need-a-special-library-for-math-and-DL?)\n",
        "* [2 Performance Comparison](#2-Performance-Comparison:-NumPy-Arrays-vs-Python-Lists)\n",
        "* [3 NumPy Basics](#3-NumPy-Basics)\n",
        "* [4 Mathematical Functions](#4-Mathematical-Functions)"
      ],
      "metadata": {
        "id": "xp1CEBKtOvy_"
      }
    },
    {
      "cell_type": "markdown",
      "metadata": {
        "id": "niPpAYhxHvHJ"
      },
      "source": [
        "## 1 Why do we need a special library for math and DL?\n",
        "Python provides data types such as lists / tuples out of the box. Then, why are we using special libraries for deep learning tasks, such as Pytorch or TensorFlow, and not using standard types?\n",
        "\n",
        "The major reason is efficiency - In pure python, there are no primitive types for numbers, as there are in other languages (e.g., C/C++). All the data types in Python are objects with lots of properties and methods. You can see it using the `dir` function:"
      ]
    },
    {
      "cell_type": "code",
      "execution_count": null,
      "metadata": {
        "id": "sEWUwCDjHvHK",
        "outputId": "a2cf8160-1e0d-4ec4-f54c-160d7b342367",
        "colab": {
          "base_uri": "https://localhost:8080/"
        }
      },
      "outputs": [
        {
          "output_type": "stream",
          "name": "stdout",
          "text": [
            "70\n"
          ]
        },
        {
          "output_type": "execute_result",
          "data": {
            "text/plain": [
              "['__trunc__',\n",
              " '__xor__',\n",
              " 'bit_length',\n",
              " 'conjugate',\n",
              " 'denominator',\n",
              " 'from_bytes',\n",
              " 'imag',\n",
              " 'numerator',\n",
              " 'real',\n",
              " 'to_bytes']"
            ]
          },
          "metadata": {},
          "execution_count": 1
        }
      ],
      "source": [
        "a = 3\n",
        "print(len(dir(a)))\n",
        "dir(a)[-10:]"
      ]
    },
    {
      "cell_type": "markdown",
      "metadata": {
        "id": "DRvZocJHHvHM"
      },
      "source": [
        "### 1.1 Python Performance Issues\n",
        "\n",
        "- Slow in tasks that require a lot of simple math operations on numbers\n",
        "- Huge memory overhead due to storing plain numbers as objects\n",
        "- Runtime overhead during memory dereferencing - cache issues\n",
        "\n",
        "NumPy is an abbreviation for \"numerical python\" and as the naming indicates, it provides a rich collection of operations for numerical data types with a Python interface. The core data structure of NumPy is `ndarray` - a multidimensional array. Let's take a look at its interface in comparison with plain python lists."
      ]
    },
    {
      "cell_type": "markdown",
      "metadata": {
        "id": "D-32F7lfHvHN"
      },
      "source": [
        "## 2 Performance Comparison: NumPy Arrays vs Python Lists\n",
        "\n",
        "Let's imagine a simple task - we have several 2-dimensional points and we want to represent them as a list of points for further processing. For the sake of simplicity, we will not create a `Point` object and will instead use a list where each 'point' in the list is another list that contains the coordinates of each point (`x` and `y`):"
      ]
    },
    {
      "cell_type": "code",
      "execution_count": null,
      "metadata": {
        "id": "-EZ-faXHHvHO",
        "outputId": "59afc1a5-edf2-43d0-d69e-185c21f2ad74",
        "colab": {
          "base_uri": "https://localhost:8080/"
        }
      },
      "outputs": [
        {
          "output_type": "execute_result",
          "data": {
            "text/plain": [
              "[[0, 1], [10, 5], [7, 3]]"
            ]
          },
          "metadata": {},
          "execution_count": 2
        }
      ],
      "source": [
        "# Create points list using explicit specification of coordinates of each point.\n",
        "points = [[0, 1], [10, 5], [7, 3]]\n",
        "points"
      ]
    },
    {
      "cell_type": "markdown",
      "metadata": {
        "id": "DoqDo4GPlWmY"
      },
      "source": [
        "### <font color=\"CornFlowerBlue\">Random Integers</font>\n",
        "\n",
        "<hr style=\"border:none; height: 4px; background-color:#D3D3D3\" />\n",
        "\n",
        "``` python\n",
        "random.randint(a, b)\n",
        "```\n",
        "\n",
        "Return a random integer *N* such that `a <= N <= b`. \n",
        "\n",
        "Documentation: <a href=\"https://docs.python.org/3/library/random.html?highlight=randint#random.randint\" target=_blank>random.randint</a>\n",
        "\n",
        "<hr style=\"border:none; height: 4px; background-color:#D3D3D3\" />"
      ]
    },
    {
      "cell_type": "code",
      "execution_count": null,
      "metadata": {
        "id": "aQB0lsiNHvHP",
        "outputId": "3b0e8662-7d61-490f-b14f-6174e72ec6cd",
        "colab": {
          "base_uri": "https://localhost:8080/"
        }
      },
      "outputs": [
        {
          "output_type": "execute_result",
          "data": {
            "text/plain": [
              "[[10, 13],\n",
              " [1, 28],\n",
              " [1, 39],\n",
              " [1, 33],\n",
              " [7, 26],\n",
              " [0, 18],\n",
              " [8, 50],\n",
              " [9, 1],\n",
              " [4, 43],\n",
              " [5, 37]]"
            ]
          },
          "metadata": {},
          "execution_count": 3
        }
      ],
      "source": [
        "# Create random points.\n",
        "from random import randint\n",
        "\n",
        "num_points = 10\n",
        "x_range = (0, 10)\n",
        "y_range = (0, 50)\n",
        "points = [[randint(*x_range), randint(*y_range)] for _ in range(num_points)]\n",
        "points"
      ]
    },
    {
      "cell_type": "markdown",
      "metadata": {
        "id": "nlglC2T5HvHQ"
      },
      "source": [
        "In the example below, we demonstrate how we can convert a Python list to A NumPy `ndarray`."
      ]
    },
    {
      "cell_type": "code",
      "execution_count": null,
      "metadata": {
        "id": "iNsjLtWoHvHR",
        "outputId": "a23887aa-4926-41b2-e13c-f2e5cfb97f95",
        "colab": {
          "base_uri": "https://localhost:8080/"
        }
      },
      "outputs": [
        {
          "output_type": "execute_result",
          "data": {
            "text/plain": [
              "array([[10, 13],\n",
              "       [ 1, 28],\n",
              "       [ 1, 39],\n",
              "       [ 1, 33],\n",
              "       [ 7, 26],\n",
              "       [ 0, 18],\n",
              "       [ 8, 50],\n",
              "       [ 9,  1],\n",
              "       [ 4, 43],\n",
              "       [ 5, 37]])"
            ]
          },
          "metadata": {},
          "execution_count": 4
        }
      ],
      "source": [
        "import numpy as np\n",
        "points = np.array(points)  # We are able to create numpy arrays from python lists.\n",
        "points"
      ]
    },
    {
      "cell_type": "markdown",
      "metadata": {
        "id": "WdKynhMYlWmc"
      },
      "source": [
        "### <font color=\"CornFlowerBlue\">Numpy Random Integers</font>\n",
        "\n",
        "<hr style=\"border:none; height: 4px; background-color:#D3D3D3\" />\n",
        "\n",
        "\n",
        "``` python\n",
        "np.random.randint(low, high=None, size=None, dtype=int)\n",
        "```\n",
        "Return random integers from low (inclusive) to high (exclusive).\n",
        "\n",
        "Return random integers from the “discrete uniform” distribution of the specified dtype in the “half-open” interval `[low, high)`. If `high` is `None` (the default), then results are from `[0, low)`.\n",
        "\n",
        "Documentation: <a href=\"https://numpy.org/doc/stable/reference/random/generated/numpy.random.randint.html\" target=_blank>np.random.randint</a>\n",
        "\n",
        "<hr style=\"border:none; height: 4px; background-color:#D3D3D3\" />"
      ]
    },
    {
      "cell_type": "markdown",
      "metadata": {
        "id": "KqyRLbYElWmc"
      },
      "source": [
        "We can use the NumPy function `randint` to create an `ndarray` of points."
      ]
    },
    {
      "cell_type": "code",
      "execution_count": null,
      "metadata": {
        "id": "aNllZKfxHvHS",
        "outputId": "4838d396-5456-4351-9460-dd624859ac11",
        "colab": {
          "base_uri": "https://localhost:8080/"
        }
      },
      "outputs": [
        {
          "output_type": "execute_result",
          "data": {
            "text/plain": [
              "array([[ 2, 37],\n",
              "       [ 7, 47],\n",
              "       [ 8, 22],\n",
              "       [ 1, 28],\n",
              "       [ 8, 37],\n",
              "       [ 1, 31],\n",
              "       [ 4, 16],\n",
              "       [ 6, 31],\n",
              "       [ 3, 50],\n",
              "       [ 2, 26]])"
            ]
          },
          "metadata": {},
          "execution_count": 5
        }
      ],
      "source": [
        "# Create random points using numpy library.\n",
        "num_dims = 2\n",
        "num_points = 10\n",
        "x_range = (0, 11)\n",
        "y_range = (0, 51)\n",
        "points = np.random.randint(\n",
        "    low=(x_range[0], y_range[0]), high=(x_range[1], y_range[1]), size=(num_points, num_dims)\n",
        ")\n",
        "points"
      ]
    },
    {
      "cell_type": "markdown",
      "metadata": {
        "id": "Tbmqr2WQHvHS"
      },
      "source": [
        "It may look as over-complication to use NumPy for the creation of such a list and we still cannot see the good sides of this approach. But let's take a look at the performance side."
      ]
    },
    {
      "cell_type": "code",
      "execution_count": null,
      "metadata": {
        "id": "uN16q92PHvHT"
      },
      "outputs": [],
      "source": [
        "num_dims = 2\n",
        "num_points = 100000\n",
        "x_range = (0, 10)\n",
        "y_range = (0, 50)"
      ]
    },
    {
      "cell_type": "markdown",
      "metadata": {
        "id": "urHvLj1PHvHU"
      },
      "source": [
        "### 2.1 Python Performance"
      ]
    },
    {
      "cell_type": "code",
      "execution_count": null,
      "metadata": {
        "id": "xf7_FuksHvHU",
        "outputId": "09516f03-7d63-47d0-8172-11216b2edb88",
        "colab": {
          "base_uri": "https://localhost:8080/"
        }
      },
      "outputs": [
        {
          "output_type": "stream",
          "name": "stdout",
          "text": [
            "167 ms ± 3.67 ms per loop (mean ± std. dev. of 7 runs, 1 loop each)\n"
          ]
        }
      ],
      "source": [
        "%timeit \\\n",
        "points = [[randint(*x_range), randint(*y_range)] for _ in range(num_points)]"
      ]
    },
    {
      "cell_type": "markdown",
      "metadata": {
        "id": "XC6QdEIZHvHV"
      },
      "source": [
        "### 2.2 NumPy Performance"
      ]
    },
    {
      "cell_type": "code",
      "execution_count": null,
      "metadata": {
        "id": "2SaFbcB4HvHV",
        "outputId": "1af62ecd-f9a5-4260-a201-503c25d119ab",
        "colab": {
          "base_uri": "https://localhost:8080/"
        }
      },
      "outputs": [
        {
          "output_type": "stream",
          "name": "stdout",
          "text": [
            "3.91 ms ± 78.2 µs per loop (mean ± std. dev. of 7 runs, 100 loops each)\n"
          ]
        }
      ],
      "source": [
        "%timeit \\\n",
        "points = np.random.randint(low=(x_range[0], y_range[0]),  \\\n",
        "                           high=(x_range[1], y_range[1]), \\\n",
        "                           size=(num_points, num_dims))"
      ]
    },
    {
      "cell_type": "markdown",
      "metadata": {
        "id": "trY51LQKHvHW"
      },
      "source": [
        "Wow, NumPy is **about 35 times faster** than pure Python on this task! One may say that the size of the array we're generating is relatively large, but this pales in comparion by many orders of magnitude to the number of computations required to train a neural network as well see later in this course."
      ]
    },
    {
      "cell_type": "markdown",
      "metadata": {
        "id": "uXGKAko2HvHW"
      },
      "source": [
        "## 3 NumPy Basics\n",
        "In this section we will review some of the more useful operations of NumPy arrays, which are most commonly used in machine learning tasks."
      ]
    },
    {
      "cell_type": "markdown",
      "metadata": {
        "id": "tC3owzeBHvHX"
      },
      "source": [
        "### 3.1 Converting Lists to Arrays\n"
      ]
    },
    {
      "cell_type": "code",
      "execution_count": null,
      "metadata": {
        "id": "6g9SDKAFHvHX",
        "outputId": "c2f1e3d0-3e36-4c97-efdb-b40f857a9da9",
        "colab": {
          "base_uri": "https://localhost:8080/"
        }
      },
      "outputs": [
        {
          "output_type": "execute_result",
          "data": {
            "text/plain": [
              "array([ 1,  2,  3,  4,  5,  6,  7,  8,  9, 10])"
            ]
          },
          "metadata": {},
          "execution_count": 9
        }
      ],
      "source": [
        "py_list = [1, 2, 3, 4, 5, 6, 7, 8, 9, 10]\n",
        "\n",
        "np_array = np.array(py_list)\n",
        "np_array"
      ]
    },
    {
      "cell_type": "code",
      "execution_count": null,
      "metadata": {
        "id": "WZZ5OY1AHvHY",
        "outputId": "1a9a7f08-da4e-4b68-835f-60206539e7cd",
        "colab": {
          "base_uri": "https://localhost:8080/"
        }
      },
      "outputs": [
        {
          "output_type": "execute_result",
          "data": {
            "text/plain": [
              "array([[ 1,  2,  3],\n",
              "       [ 4,  5,  6],\n",
              "       [ 7,  8,  9],\n",
              "       [10, 11, 12]])"
            ]
          },
          "metadata": {},
          "execution_count": 10
        }
      ],
      "source": [
        "py_list = [[1, 2, 3], [4, 5, 6], [7, 8, 9], [10, 11, 12]]\n",
        "\n",
        "np_array= np.array(py_list)\n",
        "np_array"
      ]
    },
    {
      "cell_type": "markdown",
      "metadata": {
        "id": "jVaIfvQCHvHY"
      },
      "source": [
        "### 3.2 Slicing and Indexing"
      ]
    },
    {
      "cell_type": "code",
      "execution_count": null,
      "metadata": {
        "id": "2JXLgS3HHvHZ",
        "outputId": "454f9a79-8e89-449f-94ce-4ea92853741c",
        "colab": {
          "base_uri": "https://localhost:8080/"
        }
      },
      "outputs": [
        {
          "output_type": "stream",
          "name": "stdout",
          "text": [
            "First row:\t\t\t[1 2 3]\n",
            "\n",
            "First row:\t\t\t[1 2 3]\n",
            "\n",
            "First column:\t\t\t[ 1  4  7 10]\n",
            "\n",
            "3rd row 2nd column element:\t8\n",
            "\n",
            "2nd row onwards and 2nd column onwards :\n",
            "[[ 5  6]\n",
            " [ 8  9]\n",
            " [11 12]]\n",
            "\n",
            "Last 2 rows and last 2 columns:\n",
            "[[ 8  9]\n",
            " [11 12]]\n",
            "\n",
            "Array with 3rd, 1st, and 4th row:\n",
            "[[ 7  8  9]\n",
            " [ 1  2  3]\n",
            " [10 11 12]]\n",
            "\n",
            "Array with 1st and 3rd col:\n",
            "[[ 1  3]\n",
            " [ 4  6]\n",
            " [ 7  9]\n",
            " [10 12]]\n",
            "\n"
          ]
        }
      ],
      "source": [
        "print('First row:\\t\\t\\t{}\\n'.format(np_array[0])) \n",
        "print('First row:\\t\\t\\t{}\\n'.format(np_array[0, :]))\n",
        "print('First column:\\t\\t\\t{}\\n'.format(np_array[:, 0]))\n",
        "print('3rd row 2nd column element:\\t{}\\n'.format(np_array[2, 1]))\n",
        "print('2nd row onwards and 2nd column onwards :\\n{}\\n'.format(np_array[1:, 1:]))\n",
        "print('Last 2 rows and last 2 columns:\\n{}\\n'.format(np_array[-2:, -2:]))\n",
        "print('Array with 3rd, 1st, and 4th row:\\n{}\\n'.format(np_array[[2, 0, 3]]))\n",
        "print('Array with 1st and 3rd col:\\n{}\\n'.format(np_array[:, [0, 2]]))"
      ]
    },
    {
      "cell_type": "markdown",
      "metadata": {
        "id": "lhRDlKH3HvHZ"
      },
      "source": [
        "### 3.3 Basic Attributes of NumPy Arrays\n",
        "\n",
        "Get a full list of attributes of an ndarray object <a href=\"https://numpy.org/devdocs/user/quickstart.html\" target=_blank>here</a>."
      ]
    },
    {
      "cell_type": "code",
      "execution_count": null,
      "metadata": {
        "id": "O8K4ohLiHvHZ",
        "outputId": "1780d740-a43f-4e80-ce1f-673b2127d075",
        "colab": {
          "base_uri": "https://localhost:8080/"
        }
      },
      "outputs": [
        {
          "output_type": "stream",
          "name": "stdout",
          "text": [
            "Data type:\tint64\n",
            "Array shape:\t(4, 3)\n"
          ]
        }
      ],
      "source": [
        "print('Data type:\\t{}'.format(np_array.dtype))\n",
        "print('Array shape:\\t{}'.format(np_array.shape))"
      ]
    },
    {
      "cell_type": "markdown",
      "metadata": {
        "id": "So6vlHdXHvHa"
      },
      "source": [
        "### <font color=\"CornFlowerBlue\">Create a convenience function for printing array information</font>\n",
        "\n",
        "Let's create a conveneinece function (with name `array_info`) to print the NumPy array data, its shape, and its data type. We will use this function to print various arrays further below in this notebook."
      ]
    },
    {
      "cell_type": "code",
      "execution_count": null,
      "metadata": {
        "id": "dqPfdr80HvHa",
        "outputId": "18ab5105-03d2-4e85-e098-c85fdb43bb9e",
        "colab": {
          "base_uri": "https://localhost:8080/"
        }
      },
      "outputs": [
        {
          "output_type": "stream",
          "name": "stdout",
          "text": [
            "Array:\n",
            "[[ 1  2  3]\n",
            " [ 4  5  6]\n",
            " [ 7  8  9]\n",
            " [10 11 12]]\n",
            "Data type:\tint64\n",
            "Array shape:\t(4, 3)\n",
            "\n"
          ]
        }
      ],
      "source": [
        "def array_info(array):\n",
        "    print('Array:\\n{}'.format(array))\n",
        "    print('Data type:\\t{}'.format(array.dtype))\n",
        "    print('Array shape:\\t{}\\n'.format(array.shape))\n",
        "    \n",
        "array_info(np_array)"
      ]
    },
    {
      "cell_type": "markdown",
      "metadata": {
        "id": "OddsTaAMHvHa"
      },
      "source": [
        "### 3.4 Creating NumPy Arrays Using Built-in Functions and Datatypes\n",
        "\n",
        "The full list of supported data types can be found <a href=\"https://numpy.org/devdocs/user/basics.types.html\" target=_blank>here</a>.\n"
      ]
    },
    {
      "cell_type": "markdown",
      "metadata": {
        "id": "gF2F7iJnHvHa"
      },
      "source": [
        "### <font color=\"CornFlowerBlue\">Sequence Arrays: arange</font>\n",
        "\n",
        "<hr style=\"border:none; height: 4px; background-color:#D3D3D3\" />\n",
        "\n",
        "``` python\n",
        "np.arange([start, ]stop, [step, ]dtype=None)\n",
        "```\n",
        "\n",
        "Return evenly spaced values in `[start, stop)`.\n",
        "\n",
        "Documentation: <a href=\"https://docs.scipy.org/doc/numpy/reference/generated/numpy.arange.html\" target=_blank>np.arange</a>\n",
        "\n",
        "<hr style=\"border:none; height: 4px; background-color:#D3D3D3\" />"
      ]
    },
    {
      "cell_type": "code",
      "execution_count": null,
      "metadata": {
        "id": "nOeXSQopHvHb",
        "outputId": "b6d387c5-829d-4864-e808-a0a8c0e44869",
        "colab": {
          "base_uri": "https://localhost:8080/"
        }
      },
      "outputs": [
        {
          "output_type": "stream",
          "name": "stdout",
          "text": [
            "Array:\n",
            "[0 1 2 3 4 5 6 7 8 9]\n",
            "Data type:\tint64\n",
            "Array shape:\t(10,)\n",
            "\n"
          ]
        }
      ],
      "source": [
        "# Sequence array.\n",
        "array = np.arange(10, dtype=np.int64)\n",
        "array_info(array)"
      ]
    },
    {
      "cell_type": "code",
      "execution_count": null,
      "metadata": {
        "id": "hdnMHrz_HvHb",
        "outputId": "2daa301f-731d-4060-a24b-a95a32e492b3",
        "colab": {
          "base_uri": "https://localhost:8080/"
        }
      },
      "outputs": [
        {
          "output_type": "stream",
          "name": "stdout",
          "text": [
            "Array:\n",
            "[5. 7. 9.]\n",
            "Data type:\tfloat32\n",
            "Array shape:\t(3,)\n",
            "\n"
          ]
        }
      ],
      "source": [
        "# Sequence array.\n",
        "array = np.arange(5, 10, 2, dtype=np.float32)\n",
        "array_info(array)"
      ]
    },
    {
      "cell_type": "markdown",
      "metadata": {
        "id": "R-rhyqSfHvHg"
      },
      "source": [
        "### <font color=\"CornFlowerBlue\">Sequence Arrays: linspace</font>\n",
        "\n",
        "<hr style=\"border:none; height: 4px; background-color:#D3D3D3\" />\n",
        "\n",
        "``` python\n",
        "np.linspace(start, stop, num=50, endpoint=True, retstep=False, dtype=None, axis=0)\n",
        "```\n",
        "\n",
        "Returns num evenly spaced samples, calculated over the interval `[start, stop]`.\n",
        "\n",
        "Note that `linspace` allows you to specify the number of values and infers the step size, while `arange` allows you to specify the steps size and infers the number of points. `linspace` also allows you to speficiy whether or not the endpoint is included.\n",
        "\n",
        "Documentation: <a href=\"https://docs.scipy.org/doc/numpy/reference/generated/numpy.linspace.html\" target=_blank>np.linspace</a>\n",
        "\n",
        "<hr style=\"border:none; height: 4px; background-color:#D3D3D3\" />"
      ]
    },
    {
      "cell_type": "code",
      "execution_count": null,
      "metadata": {
        "id": "HKaOPlbTHvHg",
        "outputId": "e1dff9eb-c0a3-4a12-8204-e18a29e7cda0",
        "colab": {
          "base_uri": "https://localhost:8080/"
        }
      },
      "outputs": [
        {
          "output_type": "stream",
          "name": "stdout",
          "text": [
            "Array:\n",
            "[0.        0.8333333 1.6666666 2.5       3.3333333 4.1666665 5.       ]\n",
            "Data type:\tfloat32\n",
            "Array shape:\t(7,)\n",
            "\n"
          ]
        }
      ],
      "source": [
        "# Linspace.\n",
        "linespace = np.linspace(0, 5, 7, dtype=np.float32)   # 7 elements between 0 and 5\n",
        "array_info(linespace)"
      ]
    },
    {
      "cell_type": "markdown",
      "metadata": {
        "id": "I1Pg_DjMHvHb"
      },
      "source": [
        "### <font color=\"CornFlowerBlue\">Zeros Array</font>"
      ]
    },
    {
      "cell_type": "code",
      "execution_count": null,
      "metadata": {
        "id": "GJjS17oAHvHb",
        "outputId": "2392c682-f025-4040-f107-c8d804fea397",
        "colab": {
          "base_uri": "https://localhost:8080/"
        }
      },
      "outputs": [
        {
          "output_type": "stream",
          "name": "stdout",
          "text": [
            "Array:\n",
            "[[0. 0. 0.]\n",
            " [0. 0. 0.]]\n",
            "Data type:\tfloat32\n",
            "Array shape:\t(2, 3)\n",
            "\n"
          ]
        }
      ],
      "source": [
        "# Zero array/matrix.\n",
        "zeros = np.zeros((2, 3), dtype=np.float32)\n",
        "array_info(zeros)"
      ]
    },
    {
      "cell_type": "markdown",
      "metadata": {
        "id": "0Q1oA6x9HvHc"
      },
      "source": [
        "### <font color=\"CornFlowerBlue\">Ones Array</font>"
      ]
    },
    {
      "cell_type": "code",
      "execution_count": null,
      "metadata": {
        "id": "fAjEam7jHvHc",
        "outputId": "170ab9d0-09ff-4b30-fd0c-680b4abe1732",
        "colab": {
          "base_uri": "https://localhost:8080/"
        }
      },
      "outputs": [
        {
          "output_type": "stream",
          "name": "stdout",
          "text": [
            "Array:\n",
            "[[1 1]\n",
            " [1 1]\n",
            " [1 1]]\n",
            "Data type:\tint8\n",
            "Array shape:\t(3, 2)\n",
            "\n"
          ]
        }
      ],
      "source": [
        "# Ones array/matrix.\n",
        "ones = np.ones((3, 2), dtype=np.int8)\n",
        "array_info(ones)"
      ]
    },
    {
      "cell_type": "markdown",
      "metadata": {
        "id": "ukbdvuo-HvHc"
      },
      "source": [
        "### <font color=\"CornFlowerBlue\">Constant Array</font>"
      ]
    },
    {
      "cell_type": "code",
      "execution_count": null,
      "metadata": {
        "id": "iNsCeRLPHvHd",
        "outputId": "923d9fa2-88d8-443d-ee85-d2c31c875155",
        "colab": {
          "base_uri": "https://localhost:8080/"
        }
      },
      "outputs": [
        {
          "output_type": "stream",
          "name": "stdout",
          "text": [
            "Array:\n",
            "[[3.14 3.14 3.14]\n",
            " [3.14 3.14 3.14]\n",
            " [3.14 3.14 3.14]]\n",
            "Data type:\tfloat64\n",
            "Array shape:\t(3, 3)\n",
            "\n"
          ]
        }
      ],
      "source": [
        "# Constant array/matrix.\n",
        "array = np.full((3, 3), 3.14)\n",
        "array_info(array)"
      ]
    },
    {
      "cell_type": "markdown",
      "metadata": {
        "id": "vvqAqN1THvHd"
      },
      "source": [
        "### <font color=\"CornFlowerBlue\">Identity Array</font>"
      ]
    },
    {
      "cell_type": "code",
      "execution_count": null,
      "metadata": {
        "id": "vyYfQbK3HvHd",
        "outputId": "b9d6a5fc-d0b4-47e4-ac84-16811f47bf13",
        "colab": {
          "base_uri": "https://localhost:8080/"
        }
      },
      "outputs": [
        {
          "output_type": "stream",
          "name": "stdout",
          "text": [
            "Array:\n",
            "[[1. 0. 0. 0. 0.]\n",
            " [0. 1. 0. 0. 0.]\n",
            " [0. 0. 1. 0. 0.]\n",
            " [0. 0. 0. 1. 0.]\n",
            " [0. 0. 0. 0. 1.]]\n",
            "Data type:\tfloat32\n",
            "Array shape:\t(5, 5)\n",
            "\n"
          ]
        }
      ],
      "source": [
        "# Identity array/matrix.\n",
        "identity = np.eye(5, dtype=np.float32)  # Identity matrix of shape 5x5\n",
        "array_info(identity)"
      ]
    },
    {
      "cell_type": "markdown",
      "metadata": {
        "id": "ULCiPXqpHvHd"
      },
      "source": [
        "### <font color=\"CornFlowerBlue\">Random Integers Array</font>\n",
        "\n",
        "<hr style=\"border:none; height: 4px; background-color:#D3D3D3\" />\n",
        "\n",
        "``` python\n",
        "np.random.randint(low, high=None, size=None, dtype='l')\n",
        "```\n",
        "Return random integer from the `discrete uniform` distribution in `[low, high)`. If high is `None`, then return elements are in `[0, low)`\n",
        "\n",
        "Documentation: <a href=\"https://docs.scipy.org/doc/numpy-1.15.1/reference/generated/numpy.random.randint.html\" target=_blank>np.random.randint</a>\n",
        "\n",
        "<hr style=\"border:none; height: 4px; background-color:#D3D3D3\" />"
      ]
    },
    {
      "cell_type": "code",
      "execution_count": null,
      "metadata": {
        "id": "pDymeIfMHvHe",
        "outputId": "4eaf4c2a-e4ec-4921-af8c-ab013eb92c15",
        "colab": {
          "base_uri": "https://localhost:8080/"
        }
      },
      "outputs": [
        {
          "output_type": "stream",
          "name": "stdout",
          "text": [
            "Array:\n",
            "[[8 6 7]\n",
            " [6 8 9]]\n",
            "Data type:\tint64\n",
            "Array shape:\t(2, 3)\n",
            "\n"
          ]
        }
      ],
      "source": [
        "# Random integers array/matrix.\n",
        "rand_int = np.random.randint(5, 10, (2,3)) # Random integer array of shape 2x3, values lies in [5, 10).\n",
        "array_info(rand_int)"
      ]
    },
    {
      "cell_type": "markdown",
      "metadata": {
        "id": "zaO4PVWQHvHe"
      },
      "source": [
        "### <font color=\"CornFlowerBlue\">Random Array</font>\n",
        "\n",
        "<hr style=\"border:none; height: 4px; background-color:#D3D3D3\" />\n",
        "\n",
        "``` python \n",
        "np.random.random(size=None)\n",
        "```\n",
        "\n",
        "Return random floats in the half-open interval `[0.0, 1.0)`.\n",
        "\n",
        "Results are from the `continuous uniform` distribution in `[0.0, 1.0)`.\n",
        "\n",
        "Documentation: <a href=\"https://docs.scipy.org/doc/numpy-1.14.0/reference/generated/numpy.random.random.html\" target=_blank>np.random.random</a>\n",
        "\n",
        "<hr style=\"border:none; height: 4px; background-color:#D3D3D3\" />"
      ]
    },
    {
      "cell_type": "code",
      "execution_count": null,
      "metadata": {
        "id": "nvrWSdY_HvHe",
        "outputId": "44e468e7-9b4c-4795-e213-7e1c5fc8f90d",
        "colab": {
          "base_uri": "https://localhost:8080/"
        }
      },
      "outputs": [
        {
          "output_type": "stream",
          "name": "stdout",
          "text": [
            "Array:\n",
            "[[0.01593657 0.34484468 0.04221558 0.85454658 0.02138986]\n",
            " [0.59575788 0.86585753 0.4683627  0.09992158 0.35527029]\n",
            " [0.31565494 0.08250441 0.92258663 0.05338014 0.43956537]\n",
            " [0.68803259 0.14496275 0.49500387 0.14634737 0.58035303]\n",
            " [0.92562552 0.13905415 0.49620672 0.11177837 0.1767998 ]]\n",
            "Data type:\tfloat64\n",
            "Array shape:\t(5, 5)\n",
            "\n"
          ]
        }
      ],
      "source": [
        "# Random array/matrix.\n",
        "random_array = np.random.random((5, 5))   # Random array of shape 5x5.\n",
        "array_info(random_array)"
      ]
    },
    {
      "cell_type": "markdown",
      "metadata": {
        "id": "jGSFzmIIHvHe"
      },
      "source": [
        "### <font color=\"CornFlowerBlue\">Boolean Array</font>\n",
        "\n",
        "If we compare above `random_array` with some `constant` or `array` of the same shape, we will get a boolean array."
      ]
    },
    {
      "cell_type": "code",
      "execution_count": null,
      "metadata": {
        "id": "uAvaB5nHHvHf",
        "outputId": "374bffb4-d042-43c0-a7c2-3c148ec576f2",
        "colab": {
          "base_uri": "https://localhost:8080/"
        }
      },
      "outputs": [
        {
          "output_type": "stream",
          "name": "stdout",
          "text": [
            "Array:\n",
            "[[False False False  True False]\n",
            " [ True  True False False False]\n",
            " [False False  True False False]\n",
            " [ True False False False  True]\n",
            " [ True False False False False]]\n",
            "Data type:\tbool\n",
            "Array shape:\t(5, 5)\n",
            "\n"
          ]
        }
      ],
      "source": [
        "# Boolean array/matrix.\n",
        "bool_array = random_array > 0.5\n",
        "array_info(bool_array)"
      ]
    },
    {
      "cell_type": "markdown",
      "metadata": {
        "id": "7rq3mOrUHvHf"
      },
      "source": [
        "The boolean array can be used to get value from the array. For example, If we use a boolean array of the same shape as a numerical array, we will get those values for which the boolean array is True, and other values will be masked.\n",
        "\n",
        "Let's use the above `boolen_array` to get values from `random_array`."
      ]
    },
    {
      "cell_type": "code",
      "execution_count": null,
      "metadata": {
        "id": "H0uXE08eHvHf",
        "outputId": "2b942340-cafb-4148-a3d3-e818b211e8a6",
        "colab": {
          "base_uri": "https://localhost:8080/"
        }
      },
      "outputs": [
        {
          "output_type": "stream",
          "name": "stdout",
          "text": [
            "Array:\n",
            "[0.85454658 0.59575788 0.86585753 0.92258663 0.68803259 0.58035303\n",
            " 0.92562552]\n",
            "Data type:\tfloat64\n",
            "Array shape:\t(7,)\n",
            "\n"
          ]
        }
      ],
      "source": [
        "# Use boolean array/matrix to get values from array/matrix.\n",
        "values = random_array[bool_array]\n",
        "array_info(values)"
      ]
    },
    {
      "cell_type": "markdown",
      "metadata": {
        "id": "oSDR2eeVHvHf"
      },
      "source": [
        "Basically, from the above method, we are filtering values that are greater than `0.5`. "
      ]
    },
    {
      "cell_type": "markdown",
      "metadata": {
        "id": "Zrg9IVWaHvHg"
      },
      "source": [
        "### 3.5 Data Type Conversion\n",
        "\n",
        "Sometimes it is necessary to convert one data type to another data type."
      ]
    },
    {
      "cell_type": "code",
      "execution_count": null,
      "metadata": {
        "id": "xouNqvdPHvHg",
        "outputId": "e7956da0-d955-4b6d-e662-c68589fbbc76",
        "colab": {
          "base_uri": "https://localhost:8080/"
        }
      },
      "outputs": [
        {
          "output_type": "stream",
          "name": "stdout",
          "text": [
            "Array:\n",
            "[72 99 26 78 54 47 36 22 96 64]\n",
            "Data type:\tint64\n",
            "Array shape:\t(10,)\n",
            "\n"
          ]
        }
      ],
      "source": [
        "age_in_years = np.random.randint(0, 100, 10)\n",
        "array_info(age_in_years)"
      ]
    },
    {
      "cell_type": "markdown",
      "metadata": {
        "id": "Iv49hTkJHvHg"
      },
      "source": [
        "Do we really need an `int64` data type to store age?\n",
        "\n",
        "So let's convert it to `uint8`."
      ]
    },
    {
      "cell_type": "code",
      "execution_count": null,
      "metadata": {
        "id": "OBsb_FtyHvHh",
        "outputId": "bc389df4-d960-4992-bbfa-5028943b7ee1",
        "colab": {
          "base_uri": "https://localhost:8080/"
        }
      },
      "outputs": [
        {
          "output_type": "stream",
          "name": "stdout",
          "text": [
            "Array:\n",
            "[72 99 26 78 54 47 36 22 96 64]\n",
            "Data type:\tuint8\n",
            "Array shape:\t(10,)\n",
            "\n"
          ]
        }
      ],
      "source": [
        "age_in_years = age_in_years.astype(np.uint8)\n",
        "array_info(age_in_years)"
      ]
    },
    {
      "cell_type": "markdown",
      "metadata": {
        "id": "v2m6_QkFHvHh"
      },
      "source": [
        "Let's convert it to `float64`. 😜"
      ]
    },
    {
      "cell_type": "code",
      "execution_count": null,
      "metadata": {
        "id": "JUTCsGZhHvHh",
        "outputId": "9f04cd7e-138c-4bb7-f1f9-4fb70cba6fb5",
        "colab": {
          "base_uri": "https://localhost:8080/"
        }
      },
      "outputs": [
        {
          "output_type": "stream",
          "name": "stdout",
          "text": [
            "Array:\n",
            "[72. 99. 26. 78. 54. 47. 36. 22. 96. 64.]\n",
            "Data type:\tfloat64\n",
            "Array shape:\t(10,)\n",
            "\n"
          ]
        }
      ],
      "source": [
        "age_in_years = age_in_years.astype(np.float64)\n",
        "array_info(age_in_years)"
      ]
    },
    {
      "cell_type": "markdown",
      "metadata": {
        "id": "fwk8CPN1HvHi"
      },
      "source": [
        "## 4 Mathematical Functions\n",
        "\n",
        "Numpy supports a lot of Mathematical operations with array/matrix. Here we will see a few of them which are useful in Deep Learning. All supported functions can be found <a href=\"https://docs.scipy.org/doc/numpy-1.13.0/reference/routines.math.html\" target=_blank>here</a>."
      ]
    },
    {
      "cell_type": "markdown",
      "metadata": {
        "id": "QJWb_1flHvHi"
      },
      "source": [
        "### 4.1. Exponential Function\n",
        "\n",
        "<hr style=\"border:none; height: 4px; background-color:#D3D3D3\" />\n",
        "\n",
        "Exponential functions ( also called `exp` ) are used in neural networks as activation functions. They are used in softmax functions which are widely used in Classification tasks.\n",
        "\n",
        "\n",
        "``` python\n",
        "np.exp(x)\n",
        "```\n",
        "\n",
        "Calculate the exponential of all elements in the input array.\n",
        "\n",
        "Return element-wise `exponential` of `array`.\n",
        "\n",
        "Documentation: <a href=\"https://numpy.org/doc/stable/reference/generated/numpy.exp.html\" target=_blank>np.exp</a>\n",
        "\n",
        "<hr style=\"border:none; height: 4px; background-color:#D3D3D3\" />"
      ]
    },
    {
      "cell_type": "code",
      "execution_count": null,
      "metadata": {
        "id": "Kx34jMjnHvHi",
        "outputId": "063f169e-7ade-4704-c71d-4df456a79b11",
        "colab": {
          "base_uri": "https://localhost:8080/"
        }
      },
      "outputs": [
        {
          "output_type": "stream",
          "name": "stdout",
          "text": [
            "Array:\n",
            "[[-1. -1. -1.]\n",
            " [ 0.  0.  0.]\n",
            " [ 1.  1.  1.]]\n",
            "Data type:\tfloat64\n",
            "Array shape:\t(3, 3)\n",
            "\n",
            "Exponential of an array:\n",
            "Array:\n",
            "[[0.36787944 0.36787944 0.36787944]\n",
            " [1.         1.         1.        ]\n",
            " [2.71828183 2.71828183 2.71828183]]\n",
            "Data type:\tfloat64\n",
            "Array shape:\t(3, 3)\n",
            "\n"
          ]
        }
      ],
      "source": [
        "array = np.array([np.full(3, -1), np.zeros(3), np.ones(3)])\n",
        "array_info(array)\n",
        "\n",
        "# Exponential of a array/matrix\n",
        "print('Exponential of an array:')\n",
        "exp_array = np.exp(array)\n",
        "array_info(exp_array)"
      ]
    },
    {
      "cell_type": "markdown",
      "metadata": {
        "id": "ta8t7QETHvHi"
      },
      "source": [
        "### 4.2 Square Root\n",
        "\n",
        "<hr style=\"border:none; height: 4px; background-color:#D3D3D3\" />\n",
        "\n",
        "Root Mean Square Error (RMSE) is commonly used to measure the accuracy of continuous variables. We will use the `sqrt` function to compute such quantities later in the course.\n",
        "\n",
        "\n",
        "``` python\n",
        "np.sqrt(x)\n",
        "```\n",
        "\n",
        "Return the non-negative square root of an array, element-wise.\n",
        "\n",
        "Documentation: <a href=\"https://docs.scipy.org/doc/numpy/reference/generated/numpy.sqrt.html\" target=_blank>np.sqrt</a>\n",
        "\n",
        "<hr style=\"border:none; height: 4px; background-color:#D3D3D3\" />"
      ]
    },
    {
      "cell_type": "code",
      "execution_count": null,
      "metadata": {
        "id": "G81lL3ETHvHj",
        "outputId": "69340a53-192e-4fac-914c-6f46860483c7",
        "colab": {
          "base_uri": "https://localhost:8080/"
        }
      },
      "outputs": [
        {
          "output_type": "stream",
          "name": "stdout",
          "text": [
            "Array:\n",
            "[0 1 2 3 4 5 6 7 8 9]\n",
            "Data type:\tint64\n",
            "Array shape:\t(10,)\n",
            "\n",
            "Square root:\n",
            "Array:\n",
            "[0.         1.         1.41421356 1.73205081 2.         2.23606798\n",
            " 2.44948974 2.64575131 2.82842712 3.        ]\n",
            "Data type:\tfloat64\n",
            "Array shape:\t(10,)\n",
            "\n"
          ]
        }
      ],
      "source": [
        "array = np.arange(10)\n",
        "array_info(array)\n",
        "\n",
        "print('Square root:')\n",
        "root_array = np.sqrt(array)\n",
        "array_info(root_array)"
      ]
    },
    {
      "cell_type": "markdown",
      "metadata": {
        "id": "NoknwkKbHvHj"
      },
      "source": [
        "### 4.3 Logrithm\n",
        "\n",
        "<hr style=\"border:none; height: 4px; background-color:#D3D3D3\" />\n",
        "\n",
        "'Cross-Entropy' and 'Log Loss' are the most commonly used loss functions in Machine Learning classification problems. We will use the `log` function to compute such quantities.\n",
        "\n",
        "``` python\n",
        "np.log(x)\n",
        "```\n",
        "\n",
        "Natural logarithm, element-wise.\n",
        "\n",
        "The natural logarithm `log` is the inverse of the exponential function, so that `log(exp(x)) = x`. The natural logarithm is logarithm in base `e`.\n",
        "\n",
        "Documentation: <a href=\"https://docs.scipy.org/doc/numpy/reference/generated/numpy.log.html\" target=_blank>np.log</a>\n",
        "\n",
        "\n",
        "\n",
        "<hr style=\"border:none; height: 4px; background-color:#D3D3D3\" />"
      ]
    },
    {
      "cell_type": "code",
      "execution_count": null,
      "metadata": {
        "id": "N-IpMFftHvHj",
        "outputId": "17099b1c-52b8-4e44-db99-9ce41513a3ae",
        "colab": {
          "base_uri": "https://localhost:8080/"
        }
      },
      "outputs": [
        {
          "output_type": "stream",
          "name": "stdout",
          "text": [
            "Array:\n",
            "[ 0.          2.71828183  7.3890561   1.         10.        ]\n",
            "Data type:\tfloat64\n",
            "Array shape:\t(5,)\n",
            "\n",
            "Logarithm:\n",
            "Array:\n",
            "[      -inf 1.         2.         0.         2.30258509]\n",
            "Data type:\tfloat64\n",
            "Array shape:\t(5,)\n",
            "\n"
          ]
        },
        {
          "output_type": "stream",
          "name": "stderr",
          "text": [
            "/usr/local/lib/python3.7/dist-packages/ipykernel_launcher.py:5: RuntimeWarning: divide by zero encountered in log\n",
            "  \"\"\"\n"
          ]
        }
      ],
      "source": [
        "array = np.array([0, np.exp(1), np.exp(1)**2, 1, 10])\n",
        "array_info(array)\n",
        "\n",
        "print('Logarithm:')\n",
        "log_array = np.log(array)\n",
        "array_info(log_array)"
      ]
    },
    {
      "cell_type": "markdown",
      "metadata": {
        "id": "VnvBWa0EHvHj"
      },
      "source": [
        "<font color='red'>**Note:** Warning is indicated because we are trying to calculate `log(0)`.</font>"
      ]
    },
    {
      "cell_type": "markdown",
      "metadata": {
        "id": "HsH0geFSHvHk"
      },
      "source": [
        "### 4.4 Power\n",
        "\n",
        "<hr style=\"border:none; height: 4px; background-color:#D3D3D3\" />\n",
        "\n",
        "``` python\n",
        "np.power(x1, x2)\n",
        "```\n",
        "Returns first array elements raised to powers from second array, element-wise.\n",
        "\n",
        "Raise each base in `x1` to the positionally-corresponding power in `x2`. `x1` and `x2` must be broadcastable to the same shape. Note that an integer type raised to a negative integer power will raise a ValueError.\n",
        "\n",
        "What is **broadcasting**? We will see later.\n",
        "\n",
        "Documentation: <a href=\"https://docs.scipy.org/doc/numpy/reference/generated/numpy.power.html\" target=_blank>np.power</a>\n",
        "\n",
        "<hr style=\"border:none; height: 4px; background-color:#D3D3D3\" />"
      ]
    },
    {
      "cell_type": "code",
      "execution_count": null,
      "metadata": {
        "id": "IPXG75kvHvHk",
        "outputId": "42ed7b13-df4b-4939-a2c0-831c83331904",
        "colab": {
          "base_uri": "https://localhost:8080/"
        }
      },
      "outputs": [
        {
          "output_type": "stream",
          "name": "stdout",
          "text": [
            "Array:\n",
            "[0 1 2 3 4 5]\n",
            "Data type:\tint64\n",
            "Array shape:\t(6,)\n",
            "\n",
            "Power 3:\n",
            "Array:\n",
            "[  0   1   8  27  64 125]\n",
            "Data type:\tint64\n",
            "Array shape:\t(6,)\n",
            "\n"
          ]
        }
      ],
      "source": [
        "array = np.arange(0, 6, dtype=np.int64)\n",
        "array_info(array)\n",
        "\n",
        "print('Power 3:')\n",
        "pow_array = np.power(array, 3)\n",
        "array_info(pow_array)"
      ]
    },
    {
      "cell_type": "markdown",
      "metadata": {
        "id": "0z8o9ZfMHvHk"
      },
      "source": [
        "### 4.5 Clip Values\n",
        "\n",
        "<hr style=\"border:none; height: 4px; background-color:#D3D3D3\" />\n",
        "\n",
        "``` python\n",
        "np.clip(a, a_min, a_max)\n",
        "```\n",
        "\n",
        "Clip (limit) the values in an array. Return element-wise clipped values between `a_min` and `a_max`.\n",
        "\n",
        "Documentation:  <a href=\"https://docs.scipy.org/doc/numpy/reference/generated/numpy.clip.html\" target=_blank>np.clip</a>\n",
        "\n",
        "<hr style=\"border:none; height: 4px; background-color:#D3D3D3\" />"
      ]
    },
    {
      "cell_type": "code",
      "execution_count": null,
      "metadata": {
        "id": "B-MquMQMHvHl",
        "outputId": "9d302c1f-2dac-4592-8694-9d19961fc2cb",
        "colab": {
          "base_uri": "https://localhost:8080/"
        }
      },
      "outputs": [
        {
          "output_type": "stream",
          "name": "stdout",
          "text": [
            "Array:\n",
            "[[0.0602464  0.81183277 0.42803394]\n",
            " [0.20205394 0.05295501 0.67301747]\n",
            " [0.77348019 0.75847905 0.98693851]]\n",
            "Data type:\tfloat64\n",
            "Array shape:\t(3, 3)\n",
            "\n",
            "Clipped between 0.2 and 0.5\n",
            "Array:\n",
            "[[0.2        0.5        0.42803394]\n",
            " [0.20205394 0.2        0.5       ]\n",
            " [0.5        0.5        0.5       ]]\n",
            "Data type:\tfloat64\n",
            "Array shape:\t(3, 3)\n",
            "\n",
            "Clipped to 0.2\n",
            "Array:\n",
            "[[0.2        0.81183277 0.42803394]\n",
            " [0.20205394 0.2        0.67301747]\n",
            " [0.77348019 0.75847905 0.98693851]]\n",
            "Data type:\tfloat64\n",
            "Array shape:\t(3, 3)\n",
            "\n"
          ]
        }
      ],
      "source": [
        "array = np.random.random((3, 3))\n",
        "array_info(array)\n",
        "\n",
        "# Clipped between 0.2 and 0.5\n",
        "print('Clipped between 0.2 and 0.5')\n",
        "cliped_array = np.clip(array, 0.2, 0.5)\n",
        "array_info(cliped_array)\n",
        "\n",
        "# Clipped to 0.2\n",
        "print('Clipped to 0.2')\n",
        "cliped_array = np.clip(array, 0.2, np.inf)\n",
        "array_info(cliped_array)"
      ]
    },
    {
      "cell_type": "markdown",
      "metadata": {
        "id": "0I8ULo8zHvH6"
      },
      "source": [
        "## 5. Additional References\n",
        "\n",
        "https://numpy.org/devdocs/user/quickstart.html\n",
        "\n",
        "https://docs.scipy.org/doc/numpy-1.13.0/reference/routines.math.html"
      ]
    }
  ],
  "metadata": {
    "colab": {
      "collapsed_sections": [
        "OddsTaAMHvHa"
      ],
      "provenance": []
    },
    "jupytext": {
      "encoding": "# -*- coding: utf-8 -*-",
      "formats": "ipynb,py:light"
    },
    "kernelspec": {
      "display_name": "Python 3",
      "language": "python",
      "name": "python3"
    },
    "language_info": {
      "codemirror_mode": {
        "name": "ipython",
        "version": 3
      },
      "file_extension": ".py",
      "mimetype": "text/x-python",
      "name": "python",
      "nbconvert_exporter": "python",
      "pygments_lexer": "ipython3",
      "version": "3.8.8"
    },
    "latex_envs": {
      "LaTeX_envs_menu_present": true,
      "autoclose": false,
      "autocomplete": true,
      "bibliofile": "biblio.bib",
      "cite_by": "apalike",
      "current_citInitial": 1,
      "eqLabelWithNumbers": true,
      "eqNumInitial": 1,
      "hotkeys": {
        "equation": "Ctrl-E",
        "itemize": "Ctrl-I"
      },
      "labels_anchors": false,
      "latex_user_defs": false,
      "report_style_numbering": false,
      "user_envs_cfg": false
    },
    "toc": {
      "base_numbering": 1,
      "nav_menu": {},
      "number_sections": false,
      "sideBar": true,
      "skip_h1_title": false,
      "title_cell": "Table of Contents",
      "title_sidebar": "Contents",
      "toc_cell": false,
      "toc_position": {},
      "toc_section_display": true,
      "toc_window_display": false
    },
    "varInspector": {
      "cols": {
        "lenName": 16,
        "lenType": 16,
        "lenVar": 40
      },
      "kernels_config": {
        "python": {
          "delete_cmd_postfix": "",
          "delete_cmd_prefix": "del ",
          "library": "var_list.py",
          "varRefreshCmd": "print(var_dic_list())"
        },
        "r": {
          "delete_cmd_postfix": ") ",
          "delete_cmd_prefix": "rm(",
          "library": "var_list.r",
          "varRefreshCmd": "cat(var_dic_list()) "
        }
      },
      "types_to_exclude": [
        "module",
        "function",
        "builtin_function_or_method",
        "instance",
        "_Feature"
      ],
      "window_display": false
    }
  },
  "nbformat": 4,
  "nbformat_minor": 0
}