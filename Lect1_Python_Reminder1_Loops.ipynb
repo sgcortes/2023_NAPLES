{
  "cells": [
    {
      "cell_type": "markdown",
      "metadata": {
        "id": "view-in-github",
        "colab_type": "text"
      },
      "source": [
        "<a href=\"https://colab.research.google.com/github/sgcortes/2023_NAPLES/blob/main/Lect1_Python_Reminder1_Loops.ipynb\" target=\"_parent\"><img src=\"https://colab.research.google.com/assets/colab-badge.svg\" alt=\"Open In Colab\"/></a>"
      ]
    },
    {
      "cell_type": "markdown",
      "metadata": {
        "id": "XM7TtnvlSPwI"
      },
      "source": [
        "<table style=\"width:100%\">\n",
        "  <tr>\n",
        "    <td><img src=\"https://unioviedo-my.sharepoint.com/:i:/g/personal/sgcortes_uniovi_es/Ebr0ybKDTBNKtoJyzmTBuRYBXY7nE-cCYaH-WDIVJxEVWA?&download=1\" width=\"211\" height=\"69\" alt=\"Uniovi & EP Mieres logos\" title=\"Uniovi & EP Mieres logos\" /></td>\n",
        "    <td><font color=brown>ML&DL Naples 2023<br></font>\n",
        "    <font color=green>Universidad de Oviedo. <br>Ingeniería en Geomática</font> <br><br>sgcortes@uniovi.es</td>\n",
        "  </tr>\n",
        "</table>"
      ]
    },
    {
      "cell_type": "markdown",
      "metadata": {
        "id": "0_2VQ4NHSPwL"
      },
      "source": [
        "## Making loops\n",
        "We have two lists, one with student names and other with test marks for them. Student names and califcations are in the same order.\n",
        "\n",
        "Make a loop to print one string making the names and marks to correspond.\n"
      ]
    },
    {
      "cell_type": "code",
      "execution_count": 11,
      "metadata": {
        "id": "HKDoJLjgSPwL"
      },
      "outputs": [],
      "source": [
        "alumnos = [\"Eva\", \"Moisés\", \"Pablo\",\"Sergio\",\"Daniel\",\"Angel\", \"Ana\"]\n",
        "calificaciones=[True, True, True, False,False,False,False]"
      ]
    },
    {
      "cell_type": "code",
      "execution_count": 12,
      "metadata": {
        "id": "8YYFDGoBSPwM",
        "outputId": "228688e3-1a2e-4a39-a298-87841b938404",
        "colab": {
          "base_uri": "https://localhost:8080/"
        }
      },
      "outputs": [
        {
          "output_type": "stream",
          "name": "stdout",
          "text": [
            "i:  0 val:  True\n",
            "i:  1 val:  True\n",
            "i:  2 val:  True\n",
            "i:  3 val:  False\n",
            "i:  4 val:  False\n",
            "i:  5 val:  False\n",
            "i:  6 val:  False\n"
          ]
        }
      ],
      "source": [
        "for i, val in enumerate(calificaciones):\n",
        "    print('i: ',i, 'val: ', val)"
      ]
    },
    {
      "cell_type": "code",
      "execution_count": 13,
      "metadata": {
        "id": "1-JkFITCSPwN",
        "outputId": "b703463a-1dd2-4841-c6a4-89ff448fa765",
        "colab": {
          "base_uri": "https://localhost:8080/"
        }
      },
      "outputs": [
        {
          "output_type": "stream",
          "name": "stdout",
          "text": [
            "The student number:  0 has obtained   True  in the test.\n",
            "The student number:  1 has obtained   True  in the test.\n",
            "The student number:  2 has obtained   True  in the test.\n",
            "The student number:  3 has obtained   False  in the test.\n",
            "The student number:  4 has obtained   False  in the test.\n",
            "The student number:  5 has obtained   False  in the test.\n",
            "The student number:  6 has obtained   False  in the test.\n"
          ]
        }
      ],
      "source": [
        "for i, val in enumerate(calificaciones):\n",
        "    print('The student number: ',i, 'got ',val, ' in the test.')"
      ]
    },
    {
      "cell_type": "code",
      "execution_count": 19,
      "metadata": {
        "id": "Qqu3TH22SPwN",
        "outputId": "6c0a5681-1af0-4131-dc57-4c3ccae12990",
        "colab": {
          "base_uri": "https://localhost:8080/"
        }
      },
      "outputs": [
        {
          "output_type": "stream",
          "name": "stdout",
          "text": [
            "Eva got PASSED in the test\n",
            "Moisés got PASSED in the test\n",
            "Pablo got PASSED in the test\n",
            "Sergio got FAIL in the test\n",
            "Daniel got FAIL in the test\n",
            "Angel got FAIL in the test\n",
            "Ana got FAIL in the test\n"
          ]
        }
      ],
      "source": [
        "for i, val in enumerate(calificaciones):\n",
        "    if val:\n",
        "        print(alumnos[i], 'got PASSED in the test')\n",
        "    else:\n",
        "        print(alumnos[i], 'got FAIL in the test')"
      ]
    },
    {
      "cell_type": "markdown",
      "metadata": {
        "id": "ymRe9f-tSPwO"
      },
      "source": [
        "zip fuction allow us to set the lists in paralell and to get items from the different lists simultaneously."
      ]
    },
    {
      "cell_type": "code",
      "execution_count": 20,
      "metadata": {
        "id": "6U-QsnqmSPwO",
        "outputId": "e6b1abe5-98b4-4b29-8cd3-c56a55312612",
        "colab": {
          "base_uri": "https://localhost:8080/"
        }
      },
      "outputs": [
        {
          "output_type": "stream",
          "name": "stdout",
          "text": [
            "Eva got PASSED in the test.\n",
            "Moisés got PASSED in the test.\n",
            "Pablo got PASSED in the test.\n",
            "Sergio ha obtenido un SUSPENSO en el examen.\n",
            "Daniel ha obtenido un SUSPENSO en el examen.\n",
            "Angel ha obtenido un SUSPENSO en el examen.\n",
            "Ana ha obtenido un SUSPENSO en el examen.\n"
          ]
        }
      ],
      "source": [
        "for nombre, nota in zip(alumnos, calificaciones):\n",
        "    if nota:\n",
        "         print(nombre, 'got PASSED in the test.')\n",
        "    else:\n",
        "        print(nombre, 'ha obtenido un SUSPENSO en el examen.')\n",
        "    "
      ]
    },
    {
      "cell_type": "code",
      "execution_count": 16,
      "metadata": {
        "id": "3A5zEFDlSPwO",
        "outputId": "f7d4ebdb-b067-4a44-a58c-d6a9f4edeadd",
        "colab": {
          "base_uri": "https://localhost:8080/"
        }
      },
      "outputs": [
        {
          "output_type": "stream",
          "name": "stdout",
          "text": [
            "7\n"
          ]
        }
      ],
      "source": [
        "print(len(alumnos))"
      ]
    },
    {
      "cell_type": "code",
      "execution_count": 21,
      "metadata": {
        "id": "qZkuMThzSPwO",
        "outputId": "aa44a999-1c5f-4e31-e46b-727452a29f2f",
        "colab": {
          "base_uri": "https://localhost:8080/"
        }
      },
      "outputs": [
        {
          "output_type": "stream",
          "name": "stdout",
          "text": [
            "Eva PASSED the test\n",
            "Moisés PASSED the test\n",
            "Pablo PASSED the test\n",
            "Sergio FAILED the test\n",
            "Daniel FAILED the test\n",
            "Angel FAILED the test\n",
            "Ana FAILED the test\n"
          ]
        }
      ],
      "source": [
        "for i in range(len(alumnos)):\n",
        "    if calificaciones[i]== True:\n",
        "        print(alumnos[i] + ' PASSED the test')\n",
        "    else:\n",
        "        print(alumnos[i] + ' FAILED the test')"
      ]
    },
    {
      "cell_type": "markdown",
      "metadata": {
        "id": "PNumcMCkSPwP"
      },
      "source": [
        "## While Loop\n",
        "When you don´t know a priori the number of iterations needed\n"
      ]
    },
    {
      "cell_type": "code",
      "execution_count": 22,
      "metadata": {
        "id": "bEiMxHfjSPwP",
        "outputId": "c3124fe6-7705-43b1-ec6f-215f266a1d83",
        "colab": {
          "base_uri": "https://localhost:8080/"
        }
      },
      "outputs": [
        {
          "output_type": "stream",
          "name": "stdout",
          "text": [
            "1\n",
            "3\n",
            "5\n",
            "7\n",
            "9\n",
            "11\n",
            "13\n",
            "15\n",
            "17\n",
            "19\n"
          ]
        }
      ],
      "source": [
        "# ODD numbers\n",
        "i=0\n",
        "while i<=9:\n",
        "    print(2*i+1)\n",
        "    i=i+1"
      ]
    },
    {
      "cell_type": "code",
      "execution_count": 18,
      "metadata": {
        "id": "QzQt4zfISPwP"
      },
      "outputs": [],
      "source": []
    }
  ],
  "metadata": {
    "kernelspec": {
      "display_name": "Python 3",
      "language": "python",
      "name": "python3"
    },
    "language_info": {
      "codemirror_mode": {
        "name": "ipython",
        "version": 3
      },
      "file_extension": ".py",
      "mimetype": "text/x-python",
      "name": "python",
      "nbconvert_exporter": "python",
      "pygments_lexer": "ipython3",
      "version": "3.7.7"
    },
    "colab": {
      "provenance": [],
      "include_colab_link": true
    }
  },
  "nbformat": 4,
  "nbformat_minor": 0
}