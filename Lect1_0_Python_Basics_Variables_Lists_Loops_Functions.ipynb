{
  "cells": [
    {
      "cell_type": "markdown",
      "metadata": {
        "id": "XM7TtnvlSPwI"
      },
      "source": [
        "<table style=\"width:100%\">\n",
        "  <tr>\n",
        "    <td><img src=\"https://unioviedo-my.sharepoint.com/:i:/g/personal/sgcortes_uniovi_es/Ebr0ybKDTBNKtoJyzmTBuRYBXY7nE-cCYaH-WDIVJxEVWA?&download=1\" width=\"211\" height=\"69\" alt=\"Uniovi & EP Mieres logos\" title=\"Uniovi & EP Mieres logos\" /></td>\n",
        "    <td><font color=brown>ML&DL Naples 2023<br></font>\n",
        "    <font color=green>Universidad de Oviedo. <br>Ingeniería en Geomática</font> <br><br>sgcortes@uniovi.es</td>\n",
        "  </tr>\n",
        "</table>"
      ]
    },
    {
      "cell_type": "markdown",
      "source": [
        "Python  [Python](https://www.python.org/)  is a popular programming language and there are a lot of courses, examples tutorials on line for you to learn. I will recommend to follow some of them here: [w3schools](https://www.w3schools.com/python/default.asp)\n",
        "You can find yourself many others. \n",
        "\n",
        "In the following cells you will see some simple basic examples."
      ],
      "metadata": {
        "id": "4RGmIr_Ge-1t"
      }
    },
    {
      "cell_type": "markdown",
      "source": [
        "# Tuples\n",
        "A tuple represents a sequence of any objects separated by commas and enclosed in parentheses. A tuple is an immutable object, which means it cannot be changed, and we use it to represent fixed collections of items.\n",
        "\n",
        "Let's take a look at some examples of Python tuples:\n",
        "\n",
        "+ () — an empty tuple\n",
        "+ (1.0, 9.9, 10) — a tuple containing three numeric objects\n",
        "+ ('Casey', 'Darin', 'Bella', 'Mehdi') — a tuple containing four string objects\n",
        "+ ('10', 101, True) — a tuple containing a string, an integer, and a Boolean object"
      ],
      "metadata": {
        "id": "2D9zhr7yiL6m"
      }
    },
    {
      "cell_type": "code",
      "source": [
        "a_tuple = (0, [1, 2, 3], (4, 5, 6), 7.0)\n",
        "b = (3,5)"
      ],
      "metadata": {
        "id": "fR7G1zuAiRaj"
      },
      "execution_count": 111,
      "outputs": []
    },
    {
      "cell_type": "code",
      "source": [
        "print(type(b))"
      ],
      "metadata": {
        "colab": {
          "base_uri": "https://localhost:8080/"
        },
        "id": "Dvs9akpViqH_",
        "outputId": "6f00d397-bf2f-4e39-d024-5cd8450e651e"
      },
      "execution_count": 112,
      "outputs": [
        {
          "output_type": "stream",
          "name": "stdout",
          "text": [
            "<class 'tuple'>\n"
          ]
        }
      ]
    },
    {
      "cell_type": "markdown",
      "source": [
        "## Indexing and sliceing a tuple"
      ],
      "metadata": {
        "id": "NGIylmBpiwJr"
      }
    },
    {
      "cell_type": "code",
      "source": [
        "print('The first element:', a_tuple[0])\n",
        "print('The last element:', b[-1])\n",
        "print('The data type of the second element:', type(a_tuple[1]))"
      ],
      "metadata": {
        "colab": {
          "base_uri": "https://localhost:8080/"
        },
        "id": "yaVDm8pIi1yK",
        "outputId": "71a30c0b-2bcd-42be-e2c2-a9944f71eb1b"
      },
      "execution_count": 113,
      "outputs": [
        {
          "output_type": "stream",
          "name": "stdout",
          "text": [
            "The first element: 0\n",
            "The last element: 5\n",
            "The data type of the second element: <class 'list'>\n"
          ]
        }
      ]
    },
    {
      "cell_type": "markdown",
      "source": [
        "Slicing a tuple is as simple as slicing a Python string or a list with the same rules."
      ],
      "metadata": {
        "id": "fvh1eUvTjDQa"
      }
    },
    {
      "cell_type": "code",
      "source": [
        "num_tuple = 2, 4, 5, 7, 8, 10\n",
        "print(num_tuple[:3]) # end index object will not be included in slice but first index will be\n",
        "print(num_tuple[4:])\n",
        "print(num_tuple[-3:])\n",
        "print(num_tuple[2:5])"
      ],
      "metadata": {
        "colab": {
          "base_uri": "https://localhost:8080/"
        },
        "id": "Kh0W4MHHjGcA",
        "outputId": "c7dfc681-6bab-4955-d24b-19a3715c65bf"
      },
      "execution_count": 115,
      "outputs": [
        {
          "output_type": "stream",
          "name": "stdout",
          "text": [
            "(2, 4, 5)\n",
            "(8, 10)\n",
            "(7, 8, 10)\n",
            "(5, 7, 8)\n"
          ]
        }
      ]
    },
    {
      "cell_type": "markdown",
      "metadata": {
        "id": "oN0k0VVgYWwV"
      },
      "source": [
        "# Lists\n",
        "Lists are python object used to store objects in indexed variables (each object inside a list can be referred through an index). It is created using brackets (ant the beggining and at the end) and using comma as an element (object) separator. "
      ]
    },
    {
      "cell_type": "code",
      "execution_count": 80,
      "metadata": {
        "id": "nUTMd2AbYWwV"
      },
      "outputs": [],
      "source": [
        "palabras=[\"Hola\", \"mundo\", 4.56]"
      ]
    },
    {
      "cell_type": "code",
      "execution_count": 81,
      "metadata": {
        "id": "nB9nCRkhYWwW",
        "outputId": "b09b04cd-d54d-4354-e770-61078e1d0692",
        "colab": {
          "base_uri": "https://localhost:8080/"
        }
      },
      "outputs": [
        {
          "output_type": "stream",
          "name": "stdout",
          "text": [
            "['Hola', 'mundo', 4.56]\n",
            "7.56\n"
          ]
        }
      ],
      "source": [
        "print (palabras)\n",
        "print(3+palabras[2])"
      ]
    },
    {
      "cell_type": "markdown",
      "source": [
        "Indexes start at \"0\" and furthermore, as can be seen, it is not necessary that the objects stored in a list are of the same type. A list can even contain other lists."
      ],
      "metadata": {
        "id": "ZFSZnNdeZ7Ni"
      }
    },
    {
      "cell_type": "code",
      "source": [
        "varios=[\"Hola\", [1,2,3], 5]\n",
        "print('Una cadena: ', varios[0])\n",
        "print('Un escalar: ', varios[2])\n",
        "print('Una lista: ', varios[1])\n",
        "print('Un escalar de la lista contenida:', varios[1][2])\n"
      ],
      "metadata": {
        "colab": {
          "base_uri": "https://localhost:8080/"
        },
        "id": "yo9xJrAsaTNd",
        "outputId": "00bd95a3-035b-4cc5-9168-317958037362"
      },
      "execution_count": 82,
      "outputs": [
        {
          "output_type": "stream",
          "name": "stdout",
          "text": [
            "Una cadena:  Hola\n",
            "Un escalar:  5\n",
            "Una lista:  [1, 2, 3]\n",
            "Un escalar de la lista contenida: 3\n"
          ]
        }
      ]
    },
    {
      "cell_type": "markdown",
      "source": [
        "Strings are indexed as lists:"
      ],
      "metadata": {
        "id": "gaqHfUHXabRR"
      }
    },
    {
      "cell_type": "code",
      "source": [
        "str='Hola mundo'\n",
        "print(str[6])"
      ],
      "metadata": {
        "colab": {
          "base_uri": "https://localhost:8080/"
        },
        "id": "2egdW7Anaew9",
        "outputId": "db180c16-b052-4b92-e63f-31d2605c0631"
      },
      "execution_count": 83,
      "outputs": [
        {
          "output_type": "stream",
          "name": "stdout",
          "text": [
            "u\n"
          ]
        }
      ]
    },
    {
      "cell_type": "markdown",
      "source": [
        "## Operations with lists\n",
        "Elements of lists can be reassigned and lists can be summed, multiplied like strings:"
      ],
      "metadata": {
        "id": "e9zhUg3DahNO"
      }
    },
    {
      "cell_type": "code",
      "source": [
        "nums=[1,2,3]\n",
        "print(nums+nums) # suma de listas\n",
        "print(nums*3) # producto de listas"
      ],
      "metadata": {
        "colab": {
          "base_uri": "https://localhost:8080/"
        },
        "id": "dVC59_21asqn",
        "outputId": "437a529a-2105-4eb6-9a24-59654ff35ae4"
      },
      "execution_count": 84,
      "outputs": [
        {
          "output_type": "stream",
          "name": "stdout",
          "text": [
            "[1, 2, 3, 1, 2, 3]\n",
            "[1, 2, 3, 1, 2, 3, 1, 2, 3]\n"
          ]
        }
      ]
    },
    {
      "cell_type": "markdown",
      "source": [
        "You can also check whether an item is (or is not) in the list with the in and not operator:"
      ],
      "metadata": {
        "id": "gOcuC_fsayzH"
      }
    },
    {
      "cell_type": "code",
      "source": [
        "print(3 in nums)\n",
        "print(3 not in nums)"
      ],
      "metadata": {
        "colab": {
          "base_uri": "https://localhost:8080/"
        },
        "id": "TF1Gt4y0a0oc",
        "outputId": "fe349839-2ad6-4254-ef51-bd62c361acee"
      },
      "execution_count": 85,
      "outputs": [
        {
          "output_type": "stream",
          "name": "stdout",
          "text": [
            "True\n",
            "False\n"
          ]
        }
      ]
    },
    {
      "cell_type": "markdown",
      "source": [
        "### List functions:\n",
        "- **append()**: Adds an element _at the end_ of a list\n",
        "- **len()**: Returns the length of the list\n",
        "- **insert()**: Inserts an element at any position in the list\n",
        "- **index()**: returns the index of the first occurrence of an element in a list"
      ],
      "metadata": {
        "id": "7S1gMkhna8i8"
      }
    },
    {
      "cell_type": "code",
      "source": [
        "nums=[1,2,3]\n",
        "nums.append(4)\n",
        "print(nums)\n",
        "print(len(nums))\n",
        "\n",
        "nums.insert(2,9)\n",
        "print(nums)\n",
        "\n",
        "\n",
        "print(palabras)\n",
        "print(palabras.index('Hola'))"
      ],
      "metadata": {
        "colab": {
          "base_uri": "https://localhost:8080/"
        },
        "id": "G9fzEbz-bOn0",
        "outputId": "d6337f25-2315-445a-aa82-8b544c4b29f3"
      },
      "execution_count": 86,
      "outputs": [
        {
          "output_type": "stream",
          "name": "stdout",
          "text": [
            "[1, 2, 3, 4]\n",
            "4\n",
            "[1, 2, 9, 3, 4]\n",
            "['Hola', 'mundo', 4.56]\n",
            "0\n"
          ]
        }
      ]
    },
    {
      "cell_type": "markdown",
      "source": [
        "- **max()**: Returns the value of the maximum of a list.\n",
        "- **min()**: Returns the value of the minimum of a list\n",
        "- **remove()**: removes an object from a list\n",
        "- **reverse()**: reverses the order of the elements in a list"
      ],
      "metadata": {
        "id": "Dw7zReZzbiKg"
      }
    },
    {
      "cell_type": "code",
      "source": [
        "print(max(nums))\n",
        "print(min(nums))\n",
        "nums.remove(nums[1])\n",
        "print(nums)"
      ],
      "metadata": {
        "colab": {
          "base_uri": "https://localhost:8080/"
        },
        "id": "_vivpEnQbrSV",
        "outputId": "e168970f-cc9e-43e5-c8ab-0852a86c412c"
      },
      "execution_count": 87,
      "outputs": [
        {
          "output_type": "stream",
          "name": "stdout",
          "text": [
            "9\n",
            "1\n",
            "[1, 9, 3, 4]\n"
          ]
        }
      ]
    },
    {
      "cell_type": "code",
      "source": [
        "nums.remove(1)\n",
        "print(nums)"
      ],
      "metadata": {
        "colab": {
          "base_uri": "https://localhost:8080/"
        },
        "id": "xUWUmhMTcNZc",
        "outputId": "359146ba-0542-41b7-a68e-e8375207001e"
      },
      "execution_count": 88,
      "outputs": [
        {
          "output_type": "stream",
          "name": "stdout",
          "text": [
            "[9, 3, 4]\n"
          ]
        }
      ]
    },
    {
      "cell_type": "code",
      "source": [
        "nums.reverse()\n",
        "print(nums)"
      ],
      "metadata": {
        "colab": {
          "base_uri": "https://localhost:8080/"
        },
        "id": "eDjyrC5McVj7",
        "outputId": "ee61eee8-a8d2-4c2f-dc2e-d31e6dfa4732"
      },
      "execution_count": 97,
      "outputs": [
        {
          "output_type": "stream",
          "name": "stdout",
          "text": [
            "[4, 3, 9]\n"
          ]
        }
      ]
    },
    {
      "cell_type": "markdown",
      "source": [
        "### Creating lists with _range_ and _list_\n",
        "[_range_Built function](https://docs.python.org/3/library/stdtypes.html?highlight=range#range)\n",
        "\n",
        "_range(start, stop[, step])_\n"
      ],
      "metadata": {
        "id": "PCKJHiqtcY10"
      }
    },
    {
      "cell_type": "code",
      "source": [
        "numeros=list(range(10))\n",
        "print(numeros)\n",
        "numeros2=list(range(3,10))\n",
        "print(numeros2)\n",
        "\n",
        "\n",
        "list(range(0, 10, 3))\n",
        "\n",
        "list(range(0, -10, -1))"
      ],
      "metadata": {
        "colab": {
          "base_uri": "https://localhost:8080/"
        },
        "id": "YUuFkHbecd7w",
        "outputId": "22fa3986-ce10-4805-8c91-08c72b8b7005"
      },
      "execution_count": 99,
      "outputs": [
        {
          "output_type": "stream",
          "name": "stdout",
          "text": [
            "[0, 1, 2, 3, 4, 5, 6, 7, 8, 9]\n",
            "[3, 4, 5, 6, 7, 8, 9]\n"
          ]
        },
        {
          "output_type": "execute_result",
          "data": {
            "text/plain": [
              "[0, -1, -2, -3, -4, -5, -6, -7, -8, -9]"
            ]
          },
          "metadata": {},
          "execution_count": 99
        }
      ]
    },
    {
      "cell_type": "markdown",
      "metadata": {
        "id": "0_2VQ4NHSPwL"
      },
      "source": [
        "# Making loops\n",
        "We have two lists, one with student names and other with test marks for them. Student names and califcations are in the same order.\n",
        "\n",
        "Make a loop to print one string making the names and marks to correspond.\n"
      ]
    },
    {
      "cell_type": "markdown",
      "source": [
        "Lists, strings and tuples are iterable objects in Python which means that \"Python object capable of returning its members one at a time, permitting it to be iterated over in a for-loop\". Let´s see how we can iterate and object with loops."
      ],
      "metadata": {
        "id": "yQBc_XQjbo04"
      }
    },
    {
      "cell_type": "code",
      "execution_count": 89,
      "metadata": {
        "id": "HKDoJLjgSPwL"
      },
      "outputs": [],
      "source": [
        "alumnos = [\"Eva\", \"Moisés\", \"Pablo\",\"Sergio\",\"Daniel\",\"Angel\", \"Ana\"]\n",
        "calificaciones=[True, True, True, False,False,False,False]"
      ]
    },
    {
      "cell_type": "code",
      "execution_count": 90,
      "metadata": {
        "id": "8YYFDGoBSPwM",
        "outputId": "ea7cc8b5-0034-4655-a9b6-440518dc8999",
        "colab": {
          "base_uri": "https://localhost:8080/"
        }
      },
      "outputs": [
        {
          "output_type": "stream",
          "name": "stdout",
          "text": [
            "i:  0 val:  True\n",
            "i:  1 val:  True\n",
            "i:  2 val:  True\n",
            "i:  3 val:  False\n",
            "i:  4 val:  False\n",
            "i:  5 val:  False\n",
            "i:  6 val:  False\n"
          ]
        }
      ],
      "source": [
        "for i, val in enumerate(calificaciones):\n",
        "    print('i: ',i, 'val: ', val)"
      ]
    },
    {
      "cell_type": "code",
      "execution_count": 91,
      "metadata": {
        "id": "1-JkFITCSPwN",
        "outputId": "31895169-c820-4c15-dfd2-c52c00813e7b",
        "colab": {
          "base_uri": "https://localhost:8080/"
        }
      },
      "outputs": [
        {
          "output_type": "stream",
          "name": "stdout",
          "text": [
            "The student number:  0 got  True  in the test.\n",
            "The student number:  1 got  True  in the test.\n",
            "The student number:  2 got  True  in the test.\n",
            "The student number:  3 got  False  in the test.\n",
            "The student number:  4 got  False  in the test.\n",
            "The student number:  5 got  False  in the test.\n",
            "The student number:  6 got  False  in the test.\n"
          ]
        }
      ],
      "source": [
        "for i, val in enumerate(calificaciones):\n",
        "    print('The student number: ',i, 'got ',val, ' in the test.')"
      ]
    },
    {
      "cell_type": "code",
      "execution_count": 92,
      "metadata": {
        "id": "Qqu3TH22SPwN",
        "outputId": "6bb606dd-9d75-4817-e4d2-33ba6b66e0d1",
        "colab": {
          "base_uri": "https://localhost:8080/"
        }
      },
      "outputs": [
        {
          "output_type": "stream",
          "name": "stdout",
          "text": [
            "Eva got PASSED in the test\n",
            "Moisés got PASSED in the test\n",
            "Pablo got PASSED in the test\n",
            "Sergio got FAIL in the test\n",
            "Daniel got FAIL in the test\n",
            "Angel got FAIL in the test\n",
            "Ana got FAIL in the test\n"
          ]
        }
      ],
      "source": [
        "for i, val in enumerate(calificaciones):\n",
        "    if val:\n",
        "        print(alumnos[i], 'got PASSED in the test')\n",
        "    else:\n",
        "        print(alumnos[i], 'got FAIL in the test')"
      ]
    },
    {
      "cell_type": "markdown",
      "metadata": {
        "id": "ymRe9f-tSPwO"
      },
      "source": [
        "zip fuction allow us to set the lists in paralell and to get items from the different lists simultaneously."
      ]
    },
    {
      "cell_type": "code",
      "execution_count": 93,
      "metadata": {
        "id": "6U-QsnqmSPwO",
        "outputId": "e66e24c0-240a-462b-e3eb-1300089bc948",
        "colab": {
          "base_uri": "https://localhost:8080/"
        }
      },
      "outputs": [
        {
          "output_type": "stream",
          "name": "stdout",
          "text": [
            "Eva got PASSED in the test.\n",
            "Moisés got PASSED in the test.\n",
            "Pablo got PASSED in the test.\n",
            "Sergio ha obtenido un SUSPENSO en el examen.\n",
            "Daniel ha obtenido un SUSPENSO en el examen.\n",
            "Angel ha obtenido un SUSPENSO en el examen.\n",
            "Ana ha obtenido un SUSPENSO en el examen.\n"
          ]
        }
      ],
      "source": [
        "for nombre, nota in zip(alumnos, calificaciones):\n",
        "    if nota:\n",
        "         print(nombre, 'got PASSED in the test.')\n",
        "    else:\n",
        "        print(nombre, 'ha obtenido un SUSPENSO en el examen.')\n",
        "    "
      ]
    },
    {
      "cell_type": "code",
      "execution_count": 94,
      "metadata": {
        "id": "3A5zEFDlSPwO",
        "outputId": "fd2f9697-e461-45d4-fc98-ff117f8acba4",
        "colab": {
          "base_uri": "https://localhost:8080/"
        }
      },
      "outputs": [
        {
          "output_type": "stream",
          "name": "stdout",
          "text": [
            "7\n"
          ]
        }
      ],
      "source": [
        "print(len(alumnos))"
      ]
    },
    {
      "cell_type": "code",
      "execution_count": 95,
      "metadata": {
        "id": "qZkuMThzSPwO",
        "outputId": "7a9031ee-6099-4c0f-918b-700f8ccae282",
        "colab": {
          "base_uri": "https://localhost:8080/"
        }
      },
      "outputs": [
        {
          "output_type": "stream",
          "name": "stdout",
          "text": [
            "Eva PASSED the test\n",
            "Moisés PASSED the test\n",
            "Pablo PASSED the test\n",
            "Sergio FAILED the test\n",
            "Daniel FAILED the test\n",
            "Angel FAILED the test\n",
            "Ana FAILED the test\n"
          ]
        }
      ],
      "source": [
        "for i in range(len(alumnos)):\n",
        "    if calificaciones[i]== True:\n",
        "        print(alumnos[i] + ' PASSED the test')\n",
        "    else:\n",
        "        print(alumnos[i] + ' FAILED the test')"
      ]
    },
    {
      "cell_type": "markdown",
      "metadata": {
        "id": "PNumcMCkSPwP"
      },
      "source": [
        "## While Loop\n",
        "When you don´t know a priori the number of iterations needed\n"
      ]
    },
    {
      "cell_type": "code",
      "execution_count": 96,
      "metadata": {
        "id": "bEiMxHfjSPwP",
        "outputId": "0e3a69f4-3718-414b-82ae-e6c08dc9a5fa",
        "colab": {
          "base_uri": "https://localhost:8080/"
        }
      },
      "outputs": [
        {
          "output_type": "stream",
          "name": "stdout",
          "text": [
            "1\n",
            "3\n",
            "5\n",
            "7\n",
            "9\n",
            "11\n",
            "13\n",
            "15\n",
            "17\n",
            "19\n"
          ]
        }
      ],
      "source": [
        "# ODD numbers\n",
        "i=0\n",
        "while i<=9:\n",
        "    print(2*i+1)\n",
        "    i=i+1"
      ]
    },
    {
      "cell_type": "code",
      "execution_count": 96,
      "metadata": {
        "id": "QzQt4zfISPwP"
      },
      "outputs": [],
      "source": []
    },
    {
      "cell_type": "markdown",
      "source": [
        "# Functions\n",
        "In order to be able to repeatedly apply the same commands several times without repeating code, it is possible to define our own functions. For this, the reserved word __def__ is used together with the colon and the indentation for the codes belonging to the function. Let's look at an example:"
      ],
      "metadata": {
        "id": "hGLQGt5PgNqH"
      }
    },
    {
      "cell_type": "code",
      "source": [
        "def mifuncion():\n",
        "    print(\"Ejecutando\")\n",
        "    print(\"la función\")"
      ],
      "metadata": {
        "id": "gbXBkG8Wgi-4"
      },
      "execution_count": 100,
      "outputs": []
    },
    {
      "cell_type": "code",
      "source": [
        "mifuncion()"
      ],
      "metadata": {
        "colab": {
          "base_uri": "https://localhost:8080/"
        },
        "id": "KKIZPKjvgnZq",
        "outputId": "bd302503-ceab-49ab-d125-73ddc7df1478"
      },
      "execution_count": 101,
      "outputs": [
        {
          "output_type": "stream",
          "name": "stdout",
          "text": [
            "Ejecutando\n",
            "la función\n"
          ]
        }
      ]
    },
    {
      "cell_type": "markdown",
      "source": [
        "Logically, function definitions must be made BEFORE the function is called (or invoked). functions usually take arguments: they are variables whose name is referred to in the function code but whose value is assigned during the function call. In the following example, we will create a function to add an exclamation mark to any string we supply."
      ],
      "metadata": {
        "id": "kQmTDLl5gyUt"
      }
    },
    {
      "cell_type": "code",
      "source": [
        "def exclama(palabra):\n",
        "    print(\"¡\", palabra,\"!\")"
      ],
      "metadata": {
        "id": "qPbboGODg-3k"
      },
      "execution_count": 102,
      "outputs": []
    },
    {
      "cell_type": "code",
      "source": [
        "exclama('My name is Flavio')"
      ],
      "metadata": {
        "colab": {
          "base_uri": "https://localhost:8080/"
        },
        "id": "8PAP2TEug_hk",
        "outputId": "9010f61b-09e1-43aa-a3b3-ace6f5060974"
      },
      "execution_count": 103,
      "outputs": [
        {
          "output_type": "stream",
          "name": "stdout",
          "text": [
            "¡ My name is Flavio !\n"
          ]
        }
      ]
    },
    {
      "cell_type": "code",
      "source": [
        "exclama(\"hola\")\n",
        "exclama(\"adios\")"
      ],
      "metadata": {
        "colab": {
          "base_uri": "https://localhost:8080/"
        },
        "id": "FQ0vU4n_hDqu",
        "outputId": "74911495-189a-43c3-a3bb-dce455fb8636"
      },
      "execution_count": 104,
      "outputs": [
        {
          "output_type": "stream",
          "name": "stdout",
          "text": [
            "¡ hola !\n",
            "¡ adios !\n"
          ]
        }
      ]
    },
    {
      "cell_type": "markdown",
      "source": [
        "The number of arguments can be larger:"
      ],
      "metadata": {
        "id": "RhGWe4kYhKWg"
      }
    },
    {
      "cell_type": "code",
      "source": [
        "def addtwice_x_andthreetimes_y(x,y):\n",
        "    print(2*x+3*y)"
      ],
      "metadata": {
        "id": "3URrRu7WhHt9"
      },
      "execution_count": 107,
      "outputs": []
    },
    {
      "cell_type": "code",
      "source": [
        "addtwice_x_andthreetimes_y(3,4)\n",
        "addtwice_x_andthreetimes_y(5,4)"
      ],
      "metadata": {
        "colab": {
          "base_uri": "https://localhost:8080/"
        },
        "id": "gubONj_JhRo5",
        "outputId": "957edb57-7378-4978-ab5b-16af39d99642"
      },
      "execution_count": 108,
      "outputs": [
        {
          "output_type": "stream",
          "name": "stdout",
          "text": [
            "18\n",
            "22\n"
          ]
        }
      ]
    },
    {
      "cell_type": "markdown",
      "source": [
        "The above functions are peculiar because they do not \"return\" anything, they simply print a string. However we can define in the function the values that are returned with the return command. Any includi code after the return will not be executed."
      ],
      "metadata": {
        "id": "6FPMpm99hn8u"
      }
    },
    {
      "cell_type": "code",
      "source": [
        "def maximo(x,y):\n",
        "    if x>=y:\n",
        "        return x\n",
        "    else:\n",
        "        return y"
      ],
      "metadata": {
        "id": "w9SurNlthnk0"
      },
      "execution_count": 109,
      "outputs": []
    },
    {
      "cell_type": "code",
      "source": [
        "print(maximo(4,7))"
      ],
      "metadata": {
        "colab": {
          "base_uri": "https://localhost:8080/"
        },
        "id": "IcAjjGCfhdi7",
        "outputId": "7ae8fe11-538e-4883-e5e1-b564ec3298da"
      },
      "execution_count": 110,
      "outputs": [
        {
          "output_type": "stream",
          "name": "stdout",
          "text": [
            "7\n"
          ]
        }
      ]
    }
  ],
  "metadata": {
    "kernelspec": {
      "display_name": "Python 3",
      "language": "python",
      "name": "python3"
    },
    "language_info": {
      "codemirror_mode": {
        "name": "ipython",
        "version": 3
      },
      "file_extension": ".py",
      "mimetype": "text/x-python",
      "name": "python",
      "nbconvert_exporter": "python",
      "pygments_lexer": "ipython3",
      "version": "3.7.7"
    },
    "colab": {
      "provenance": []
    }
  },
  "nbformat": 4,
  "nbformat_minor": 0
}